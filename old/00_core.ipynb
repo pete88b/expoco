{
 "cells": [
  {
   "cell_type": "code",
   "execution_count": 1,
   "metadata": {},
   "outputs": [],
   "source": [
    "# default_exp core"
   ]
  },
  {
   "cell_type": "markdown",
   "metadata": {},
   "source": [
    "# Core\n",
    "\n",
    "> API details."
   ]
  },
  {
   "cell_type": "code",
   "execution_count": 2,
   "metadata": {},
   "outputs": [],
   "source": [
    "#export\n",
    "_device_control_functions = {}\n",
    "\n",
    "def add_device_control_function(os_type, fn_name, fn):\n",
    "    if os_type not in _device_control_functions:\n",
    "        _device_control_functions[os_type] = {}\n",
    "    _device_control_functions[os_type][fn_name] = fn\n",
    "    \n",
    "def get_device_control_functions(os_type):\n",
    "    return _device_control_functions.get(os_type, {})\n",
    "\n",
    "def get_device_control_function(os_type, fn_name):\n",
    "    return _device_control_functions.get(os_type, {})[fn_name]"
   ]
  },
  {
   "cell_type": "code",
   "execution_count": 3,
   "metadata": {},
   "outputs": [],
   "source": [
    "#export\n",
    "DEFAULT_EXPRESSION_CONFIG = {\n",
    "    \"expressions\": {\n",
    "        \"0\": \"No expression\",\n",
    "        \"1\": \"Left eye closed\",\n",
    "        \"2\": \"Right eye closed\",\n",
    "        \"3\": \"Both eyes closed\",\n",
    "        \"4\": \"Shrug\"\n",
    "    }\n",
    "}"
   ]
  },
  {
   "cell_type": "code",
   "execution_count": 4,
   "metadata": {},
   "outputs": [
    {
     "name": "stdout",
     "output_type": "stream",
     "text": [
      "Converted 00_core.ipynb.\n",
      "Converted 10_screen.ipynb.\n",
      "Converted 20_pointer.ipynb.\n",
      "Converted 30_keyboard.ipynb.\n",
      "Converted 40_video.ipynb.\n",
      "Converted 90_cli.ipynb.\n",
      "Converted index.ipynb.\n",
      "Converted project_lifecycle.ipynb.\n"
     ]
    }
   ],
   "source": [
    "#hide\n",
    "from nbdev.export import notebook2script\n",
    "notebook2script()"
   ]
  }
 ],
 "metadata": {
  "kernelspec": {
   "display_name": "Python 3 (ipykernel)",
   "language": "python",
   "name": "python3"
  },
  "language_info": {
   "codemirror_mode": {
    "name": "ipython",
    "version": 3
   },
   "file_extension": ".py",
   "mimetype": "text/x-python",
   "name": "python",
   "nbconvert_exporter": "python",
   "pygments_lexer": "ipython3",
   "version": "3.8.0"
  }
 },
 "nbformat": 4,
 "nbformat_minor": 4
}
