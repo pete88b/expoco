{
 "cells": [
  {
   "cell_type": "code",
   "execution_count": null,
   "metadata": {},
   "outputs": [],
   "source": [
    "#hide\n",
    "from expoco.core import *"
   ]
  },
  {
   "cell_type": "markdown",
   "metadata": {},
   "source": [
    "# ExPoCo: Expression Pointer Control\n",
    "\n",
    "> This project attempts to find ways of controling your pointer (cursor) with as little mouse use as possible.\n",
    "\n",
    "The initial idea I'd like to explore\n",
    "- Can we move the pointer with our eyes\n",
    "    - This could get distrcting so ... we'll need a simple way to switch this behaviour on and off\n",
    "- Can we trigger pointer events (e.g. right click) with facial expressions (e.g. right eye blink)"
   ]
  },
  {
   "cell_type": "markdown",
   "metadata": {},
   "source": [
    "# Coding conventions\n",
    "\n",
    "`point`: 2 tuple or list. e.g. `(x, y)` or `[x,y]`\n",
    "\n",
    "`size`: 2 tuple or list. e.g. `screen_size = [screen_width, screen_height]`"
   ]
  },
  {
   "cell_type": "markdown",
   "metadata": {},
   "source": [
    "## Install"
   ]
  },
  {
   "cell_type": "markdown",
   "metadata": {},
   "source": [
    "`pip install expoco`"
   ]
  },
  {
   "cell_type": "markdown",
   "metadata": {},
   "source": [
    "# Developers\n",
    "\n",
    "If you're working on a windows machine\n",
    "```\n",
    "git config --global core.autocrlf input\n",
    "```\n",
    "\n",
    "To setup a conda environment for local development\n",
    "```\n",
    "conda create -n expoco python==3.7 -y\n",
    "conda activate expoco\n",
    "pip install nbdev jupyterlab opencv-python\n",
    "cd github *** nav to where you want this project to live on your filesystem\n",
    "git clone https://github.com/pete88b/expoco.git\n",
    "cd expoco\n",
    "nbdev_install_git_hooks\n",
    "jupyter-lab\n",
    "```\n",
    "\n",
    "2021-09-01: I ran the above, then `pip freeze > requirements.txt` to create requirements.txt\n",
    "\n",
    "TODO: clean this up &darr; notebooks currently using the cv conda env - see `_tmp/cv-setup.txt`\n",
    "\n",
    "```\n",
    "mamba remove --name expoco --all\n",
    "```\n",
    "\n",
    "```\n",
    "mamba create -n expoco python==3.8 -y\n",
    "mamba activate expoco\n",
    "mamba install -c conda-forge pywin32 -y\n",
    "mamba install -c conda-forge jupyterlab -y\n",
    "mamba install -c conda-forge ipywidgets -y\n",
    "mamba install -c conda-forge jupyterlab_widgets -y\n",
    "mamba install -c conda-forge nodejs -y\n",
    "mamba install -c conda-forge pandas -y\n",
    "pip install opencv-python mediapipe nbdev\n",
    "```\n",
    "TODO: do we need this?\n",
    "```\n",
    "jupyter labextension install @jupyter-widgets/jupyterlab-manager\n",
    "```"
   ]
  }
 ],
 "metadata": {
  "kernelspec": {
   "display_name": "Python 3",
   "language": "python",
   "name": "python3"
  },
  "language_info": {
   "codemirror_mode": {
    "name": "ipython",
    "version": 3
   },
   "file_extension": ".py",
   "mimetype": "text/x-python",
   "name": "python",
   "nbconvert_exporter": "python",
   "pygments_lexer": "ipython3",
   "version": "3.7.0"
  }
 },
 "nbformat": 4,
 "nbformat_minor": 4
}
