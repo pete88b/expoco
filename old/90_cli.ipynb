{
 "cells": [
  {
   "cell_type": "code",
   "execution_count": null,
   "metadata": {},
   "outputs": [],
   "source": [
    "# default_exp cli"
   ]
  },
  {
   "cell_type": "markdown",
   "metadata": {},
   "source": [
    "# Cli\n",
    "\n",
    "> Command line interface for image capture functions."
   ]
  },
  {
   "cell_type": "code",
   "execution_count": null,
   "metadata": {},
   "outputs": [],
   "source": [
    "#export\n",
    "from pathlib import Path\n",
    "import json\n",
    "from fastcore.script import *\n",
    "from expoco.core import *\n",
    "from expoco.video import *"
   ]
  },
  {
   "cell_type": "code",
   "execution_count": null,
   "metadata": {},
   "outputs": [],
   "source": [
    "#export\n",
    "@call_parse\n",
    "def video_capture_session(\n",
    "        os_type:Param('OS type',str),\n",
    "        expression_id:Param('Expression ID',int),\n",
    "        stop_after:Param('Stop after',int)=20,\n",
    "        random_move:Param('Random move',bool)=True):\n",
    "    \"\"\n",
    "    path = Path('data/config.json')\n",
    "    if not path.is_file():\n",
    "        print(str(path.resolve()), 'is missing. Creating default config.json')\n",
    "        path.parent.mkdir(parents=True, exist_ok=True)\n",
    "        with open(path, 'w') as f: json.dump(DEFAULT_EXPRESSION_CONFIG, f, indent=2)\n",
    "    capture_session(get_device_control_functions(os_type), expression_id, stop_after, random_move)"
   ]
  },
  {
   "cell_type": "code",
   "execution_count": null,
   "metadata": {},
   "outputs": [
    {
     "name": "stdout",
     "output_type": "stream",
     "text": [
      "Converted 00_core.ipynb.\n",
      "Converted 10_screen.ipynb.\n",
      "Converted 20_pointer.ipynb.\n",
      "Converted 30_keyboard.ipynb.\n",
      "Converted 40_video.ipynb.\n",
      "Converted 90_cli.ipynb.\n",
      "Converted index.ipynb.\n",
      "Converted project_lifecycle.ipynb.\n"
     ]
    }
   ],
   "source": [
    "#hide\n",
    "from nbdev.export import notebook2script\n",
    "notebook2script()"
   ]
  }
 ],
 "metadata": {
  "kernelspec": {
   "display_name": "Python 3",
   "language": "python",
   "name": "python3"
  }
 },
 "nbformat": 4,
 "nbformat_minor": 4
}
