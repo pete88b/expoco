{
 "cells": [
  {
   "cell_type": "code",
   "execution_count": null,
   "metadata": {},
   "outputs": [],
   "source": [
    "# default_exp video"
   ]
  },
  {
   "cell_type": "markdown",
   "metadata": {},
   "source": [
    "# Video\n",
    "\n",
    "> API details."
   ]
  },
  {
   "cell_type": "code",
   "execution_count": null,
   "metadata": {},
   "outputs": [],
   "source": [
    "#export\n",
    "import cv2, datetime, time\n",
    "from pathlib import Path\n",
    "from expoco.screen import *\n",
    "from expoco.pointer import *\n",
    "from expoco.keyboard import *"
   ]
  },
  {
   "cell_type": "code",
   "execution_count": null,
   "metadata": {},
   "outputs": [],
   "source": [
    "#export\n",
    "def video_capture_session(keyboard):\n",
    "    now = datetime.datetime.utcnow().strftime('%Y%m%d%H%M%S')\n",
    "    path = Path(f'data/capture_session_{now}')\n",
    "    path.mkdir(parents=True, exist_ok=True)\n",
    "    \n",
    "    video_capture = cv2.VideoCapture(0)\n",
    "    try:\n",
    "        width, height = [int(video_capture.get(p)) for p in [cv2.CAP_PROP_FRAME_WIDTH, cv2.CAP_PROP_FRAME_HEIGHT]]\n",
    "        assert width >= height\n",
    "        trim_width = (width-height)//2\n",
    "        screen_size = new_windows_screen().get_screen_size()\n",
    "        pointer = new_windows_pointer()\n",
    "        pointer.random_move_to(screen_size)\n",
    "        print('Ready: screen_size', screen_size)\n",
    "\n",
    "        def _after_key_press(character):\n",
    "            retval, image = video_capture.read()\n",
    "            if retval:\n",
    "                # resize to square\n",
    "                image = image[:, trim_width:-trim_width]\n",
    "                now = datetime.datetime.utcnow().strftime('%Y%m%d%H%M%S')\n",
    "#                 assert cv2.imwrite(str(path/f'{now}.png'), image[:, trim_width:-trim_width])\n",
    "                x,y = pointer.get_position()\n",
    "                assert cv2.imwrite(str(path/f'{now}_{x}_{y}_{character}.png'), image)\n",
    "                pointer.random_move_to(screen_size)\n",
    "            else:\n",
    "                print('Nothing read from video capture')\n",
    "\n",
    "        keyboard.after_key_press(_after_key_press)\n",
    "    \n",
    "    finally:\n",
    "        video_capture.release()"
   ]
  },
  {
   "cell_type": "markdown",
   "metadata": {},
   "source": [
    "```\n",
    "video_capture_session(new_windows_keyboard())\n",
    "```"
   ]
  }
 ],
 "metadata": {
  "kernelspec": {
   "display_name": "Python 3",
   "language": "python",
   "name": "python3"
  }
 },
 "nbformat": 4,
 "nbformat_minor": 4
}
