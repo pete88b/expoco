{
 "cells": [
  {
   "cell_type": "code",
   "execution_count": 1,
   "id": "cd5e2182",
   "metadata": {},
   "outputs": [],
   "source": [
    "# default_exp core"
   ]
  },
  {
   "cell_type": "markdown",
   "id": "0042ebe0",
   "metadata": {},
   "source": [
    "# Core\n",
    "\n",
    "> Utility functions, classes etc used by other code in the expoco project."
   ]
  },
  {
   "cell_type": "code",
   "execution_count": 2,
   "id": "5524522f",
   "metadata": {},
   "outputs": [],
   "source": [
    "#export\n",
    "from dataclasses import dataclass\n",
    "from pathlib import Path\n",
    "import cv2, datetime, json, time"
   ]
  },
  {
   "cell_type": "code",
   "execution_count": 3,
   "id": "d63b4642",
   "metadata": {},
   "outputs": [],
   "source": [
    "#export\n",
    "def in_colab():\n",
    "    \"Check if the code is running in Google Colaboratory\"\n",
    "    try:\n",
    "        return 'google.colab' in str(get_ipython())\n",
    "    except:\n",
    "        return False\n",
    "\n",
    "def in_jupyter():\n",
    "    \"Check if the code is running in a jupyter notebook\"\n",
    "    try:\n",
    "        return 'ZMQInteractiveShell' in str(get_ipython())\n",
    "    except:\n",
    "        return False\n",
    "\n",
    "def in_notebook():\n",
    "    \"Check if the code is running in a jupyter notebook\"\n",
    "    return in_colab() or in_jupyter()"
   ]
  },
  {
   "cell_type": "code",
   "execution_count": 4,
   "id": "3f2e40bf",
   "metadata": {},
   "outputs": [],
   "source": [
    "#export\n",
    "def now():\n",
    "    \"Return a timestamp string that can be used in file or directory names\"\n",
    "    return datetime.datetime.utcnow().strftime('%Y%m%d_%H%M%S')"
   ]
  },
  {
   "cell_type": "code",
   "execution_count": 5,
   "id": "af2a6d64",
   "metadata": {},
   "outputs": [],
   "source": [
    "#export\n",
    "def path_to_str(path):\n",
    "    \"Format a path so that path strings can be used on different platforms\"\n",
    "    return str(path).replace('\\\\', '/')"
   ]
  },
  {
   "cell_type": "code",
   "execution_count": 6,
   "id": "6dadca3f",
   "metadata": {},
   "outputs": [],
   "source": [
    "#export\n",
    "def get_dict_subset(d, name_prefix, remove_prefix=True, remove_additional_characters=1):\n",
    "    \"Return a subset of entries from a dictionary like object\"\n",
    "    if name_prefix is None or name_prefix == '': return d\n",
    "    def _rm_prefix(k):\n",
    "        if not remove_prefix: return k\n",
    "        return k[len(name_prefix)+remove_additional_characters:]\n",
    "    return {_rm_prefix(k): d[k] for k in d if k.startswith(name_prefix)}"
   ]
  },
  {
   "cell_type": "markdown",
   "id": "71f021f4",
   "metadata": {},
   "source": [
    "A pytorch state dict will have keys like\n",
    "```\n",
    "[...\n",
    " 'layers.0.0.weight',\n",
    " 'layers.0.2.weight',\n",
    " 'layers.0.2.bias',\n",
    " 'layers.0.2.running_mean',\n",
    " 'layers.0.2.running_var',\n",
    " 'layers.0.2.num_batches_tracked',\n",
    " ...\n",
    " 'layers.2.0.weight',\n",
    " 'layers.2.0.bias']\n",
    "```\n",
    "so can get all state for a module with something like;\n",
    "```\n",
    "get_dict_subset(state_dict, 'layers.2.0')\n",
    "```\n",
    "which returns\n",
    "```\n",
    "{'weight': [...], 'bias': [...]}\n",
    "```"
   ]
  },
  {
   "cell_type": "code",
   "execution_count": 7,
   "id": "3e9b3704",
   "metadata": {},
   "outputs": [],
   "source": [
    "test_dict = {}\n",
    "for p1 in ['a','b','c']:\n",
    "    for p2 in ['a','b','c']:\n",
    "        test_dict[f'{p1}.{p2}']=f'{p1}.{p2}.value'\n",
    "\n",
    "expected = {'a': 'b.a.value', 'b': 'b.b.value', 'c': 'b.c.value'}\n",
    "assert get_dict_subset(test_dict, 'b') == expected\n",
    "expected = {'b.a': 'b.a.value', 'b.b': 'b.b.value', 'b.c': 'b.c.value'}\n",
    "assert get_dict_subset(test_dict, 'b', False) == expected\n",
    "expected = {'.a': 'b.a.value', '.b': 'b.b.value', '.c': 'b.c.value'}\n",
    "assert get_dict_subset(test_dict, 'b', True, 0) == expected"
   ]
  },
  {
   "cell_type": "code",
   "execution_count": 8,
   "id": "277a556e",
   "metadata": {},
   "outputs": [],
   "source": [
    "#export\n",
    "@dataclass(frozen=True) # frozen doesn't really help (o: but we don't want to change values of this data class\n",
    "class FaceLandmarks:\n",
    "    \"Constants to help working with facemesh landmarks\"\n",
    "    count=468\n",
    "    top_lip_indent=0\n",
    "    tip_of_nose=1\n",
    "    pointer = [1, 5, 2, 218, 438] # tip_of_nose,up,down,left,right\n",
    "    mouth = [0, 11, 12, 13, 14, 15, 16, 17, 18, 37, 38, 39, 40, 41, 42, 43, 57, 61, 62, 72, 73, 74, 76, 77, 78, 80, 81, 82, 83, 84, 85, 86, 87, 88, 89, 90, 91, 92, 95, 96, 106, 146, 164, 165, 167, 178, 179, 180, 181, 182, 183, 184, 185, 186, 191, 204, 267, 268, 269, 270, 271, 272, 273, 287, 291, 292, 302, 303, 304, 306, 307, 308, 310, 311, 312, 313, 314, 315, 316, 317, 318, 319, 320, 321, 322, 324, 325, 335, 375, 391, 393, 402, 403, 404, 405, 406, 407, 408, 409, 410, 415, 424]"
   ]
  },
  {
   "cell_type": "code",
   "execution_count": 9,
   "id": "42d3bdd0",
   "metadata": {},
   "outputs": [],
   "source": [
    "#export\n",
    "def landmark_ids_to_col_names(landmark_ids, landmark_ids_to_exclude=None, coords=['x','y']):\n",
    "    \"Convert landmark IDs and coords into column names\"\n",
    "    landmark_ids, coords, col_names = sorted(landmark_ids), sorted(coords), []\n",
    "    if not isinstance(landmark_ids_to_exclude, list):\n",
    "        landmark_ids_to_exclude = [landmark_ids_to_exclude]\n",
    "    for i in landmark_ids:\n",
    "        if i in landmark_ids_to_exclude:\n",
    "            continue\n",
    "        for coord in coords:\n",
    "            col_names.append(f'{i}{coord}')\n",
    "    return col_names"
   ]
  },
  {
   "cell_type": "code",
   "execution_count": 10,
   "id": "7edb7910",
   "metadata": {},
   "outputs": [],
   "source": [
    "assert ['2x', '2y'] == landmark_ids_to_col_names([1,3,2], [1,3])\n",
    "assert ['1x', '1y', '1z'] == landmark_ids_to_col_names([1,2], [2], ['y','x','z'])\n",
    "assert ['1x', '1y', '1z', '2x', '2y', '2z'] == landmark_ids_to_col_names([1,2], None, ['y','x','z'])"
   ]
  },
  {
   "cell_type": "code",
   "execution_count": 11,
   "id": "d8b7179a",
   "metadata": {},
   "outputs": [],
   "source": [
    "#export\n",
    "class ImageDisplayHelper:\n",
    "    \"Display images in-notebook or standalone depending on runtime\"\n",
    "    def __init__(self, image, name='image'):\n",
    "        \"Create a new helper and show the image\"\n",
    "        self.name, self.in_notebook = name, in_notebook()\n",
    "        self.show(image)\n",
    "    def show(self, image):\n",
    "        \"Show an image\"\n",
    "        self.show_ipywidget(image) if self.in_notebook else self.show_cv2(image)\n",
    "    def show_cv2(self, image):\n",
    "        \"Show an image using cv2\"\n",
    "        cv2.imshow(self.name, image)\n",
    "        cv2.waitKey(1)\n",
    "    def show_ipywidget(self, image):\n",
    "        \"Show an image using a jupyter widget\"\n",
    "        if getattr(self, 'image_widget', None) is None:\n",
    "            import ipywidgets as widgets\n",
    "            self.image_widget = widgets.Image(value=cv2.imencode('.png', image)[1].tobytes())\n",
    "            display(self.image_widget)\n",
    "        else:\n",
    "            self.image_widget.value = cv2.imencode('.png', image)[1].tobytes()\n",
    "    def close(self):\n",
    "        \"Close the image display\"\n",
    "        if getattr(self, 'image_widget', None) is not None:\n",
    "            self.image_widget.close()\n",
    "        cv2.destroyAllWindows()"
   ]
  },
  {
   "cell_type": "code",
   "execution_count": 12,
   "id": "13ef10c8",
   "metadata": {},
   "outputs": [
    {
     "name": "stdout",
     "output_type": "stream",
     "text": [
      "Converted 00_core.ipynb.\n",
      "Converted 01a_camera_capture.ipynb.\n",
      "Converted 10a_viseme_tabular_identify_landmarks.ipynb.\n",
      "Converted 10b_viseme_tabular_data.ipynb.\n",
      "Converted 10d_viseme_tabular_model.ipynb.\n",
      "Converted 10e_viseme_tabular_train_model.ipynb.\n",
      "Converted 10f_viseme_tabular_test_model.ipynb.\n",
      "Converted 11b_viseme_image_data.ipynb.\n",
      "Converted 11f_viseme_image_test_model.ipynb.\n",
      "Converted 20a_gui_capture_command.ipynb.\n",
      "Converted 20a_gui_main.ipynb.\n",
      "Converted 70_cli.ipynb.\n",
      "Converted index.ipynb.\n",
      "Converted project_lifecycle.ipynb.\n"
     ]
    }
   ],
   "source": [
    "#hide\n",
    "from nbdev.export import notebook2script\n",
    "notebook2script()"
   ]
  }
 ],
 "metadata": {
  "kernelspec": {
   "display_name": "Python 3 (ipykernel)",
   "language": "python",
   "name": "python3"
  },
  "language_info": {
   "codemirror_mode": {
    "name": "ipython",
    "version": 3
   },
   "file_extension": ".py",
   "mimetype": "text/x-python",
   "name": "python",
   "nbconvert_exporter": "python",
   "pygments_lexer": "ipython3",
   "version": "3.8.0"
  }
 },
 "nbformat": 4,
 "nbformat_minor": 5
}
