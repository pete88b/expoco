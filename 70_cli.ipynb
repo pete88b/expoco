{
 "cells": [
  {
   "cell_type": "code",
   "execution_count": 1,
   "metadata": {},
   "outputs": [],
   "source": [
    "# default_exp cli"
   ]
  },
  {
   "cell_type": "markdown",
   "metadata": {},
   "source": [
    "# CLI\n",
    "\n",
    "> Command line tools for working with expoco."
   ]
  },
  {
   "cell_type": "code",
   "execution_count": 1,
   "metadata": {},
   "outputs": [],
   "source": [
    "#export\n",
    "from expoco.core import *\n",
    "from expoco.face_mesh.capture_session import capture_session as _capture_session\n",
    "from expoco.face_mesh.capture_session import dry_run as _dry_run\n",
    "from expoco.ml.data import viseme_dataset_from_capture_sessions as _viseme_dataset_from_capture_sessions\n",
    "from expoco.ml.data import processed_dataset_from_viseme_dataset as _processed_dataset_from_viseme_dataset\n",
    "from expoco.gui.main import run_main as _run_main\n",
    "from fastcore.script import *"
   ]
  },
  {
   "cell_type": "code",
   "execution_count": 3,
   "metadata": {},
   "outputs": [],
   "source": [
    "#export\n",
    "@call_parse\n",
    "def run_main():\n",
    "    _run_main()"
   ]
  },
  {
   "cell_type": "code",
   "execution_count": 3,
   "metadata": {},
   "outputs": [],
   "source": [
    "#export\n",
    "@call_parse\n",
    "def dry_run():\n",
    "    _dry_run()"
   ]
  },
  {
   "cell_type": "code",
   "execution_count": 4,
   "metadata": {},
   "outputs": [],
   "source": [
    "#export\n",
    "@call_parse\n",
    "def capture_session(expression_id:Param('', int), \n",
    "                    stop_after:Param('', int),\n",
    "                    comments:Param('', str)):\n",
    "    path = _capture_session(expression_id, stop_after, comments)\n",
    "    print('Capture session path', path)"
   ]
  },
  {
   "cell_type": "code",
   "execution_count": 5,
   "metadata": {},
   "outputs": [],
   "source": [
    "#export\n",
    "@call_parse # TODO: think of a better name\n",
    "def capture_session2(stop_after:Param('', int),\n",
    "                     comments:Param('', str)):\n",
    "    import cv2\n",
    "    window_name = 'expoco: Capture session'\n",
    "    for k, v in dict(\n",
    "            center_box=[(1280-640)//2, (720-480)//2],\n",
    "            top_left_box=[0, 0],\n",
    "            top_right_box=[1280-640, 0],\n",
    "            bottom_right_box=[1280-640, 720-480],\n",
    "            bottom_left_box=[0, 720-480]).items():\n",
    "        cv2.namedWindow(window_name)\n",
    "        cv2.moveWindow(window_name, *v)\n",
    "        for expression_id in range(5):\n",
    "            path = _capture_session(expression_id, stop_after, f'{k} {comments}')\n",
    "            print('Capture session path', path)"
   ]
  },
  {
   "cell_type": "code",
   "execution_count": 6,
   "metadata": {},
   "outputs": [],
   "source": [
    "#export\n",
    "@call_parse\n",
    "def viseme_dataset_from_capture_sessions(\n",
    "        input_path:Param('Path to read capture session data from', str)='data/capture_session', \n",
    "        glob_pattern:Param('Pattern of folders to include', str)='viseme*'):\n",
    "    \"Create a viseme dataset from capture session data\"\n",
    "    path = _viseme_dataset_from_capture_sessions(input_path, glob_pattern)\n",
    "    print('Viseme dataset path', path)"
   ]
  },
  {
   "cell_type": "code",
   "execution_count": 7,
   "metadata": {},
   "outputs": [],
   "source": [
    "#export\n",
    "@call_parse\n",
    "def processed_dataset_from_viseme_dataset(\n",
    "        input_path:Param('Path to read viseme data from', str),\n",
    "        landmark_ids:Param('Comma separated list of landmarks IDs (int) to include', str), \n",
    "        relative_landmark_id:Param('ID of landmark that other landmarks should be made relative to', int)=None, \n",
    "        y_name:Param('Name of the target variable', str)='expression_id',\n",
    "        change_y_from:Param('Target value to change from', int)=None, \n",
    "        change_y_to:Param('Target value to change to', int)=None):\n",
    "    \"Create a processed dataset (ready for ML) from a raw viseme dataset\"\n",
    "    # TODO: make landmark_ids parse more robust - or use config file to drive processing\n",
    "    landmark_ids = [int(i) for i in landmark_ids.split(',')]\n",
    "    path = _processed_dataset_from_viseme_dataset(\n",
    "            input_path, landmark_ids, relative_landmark_id, y_name, change_y_from, change_y_to)\n",
    "    print('Viseme dataset path', path)"
   ]
  },
  {
   "cell_type": "code",
   "execution_count": 2,
   "metadata": {},
   "outputs": [
    {
     "name": "stdout",
     "output_type": "stream",
     "text": [
      "Converted 00_core.ipynb.\n",
      "Converted 05a_ml_data.ipynb.\n",
      "Converted 05b_ml_model.ipynb.\n",
      "Converted 10a_mediapipe_face_mesh_identify_landmarks.ipynb.\n",
      "Converted 10b_mediapipe_face_mesh_capture_session.ipynb.\n",
      "Converted 10c_mediapipe_face_mesh_train_model.ipynb.\n",
      "Converted 10d_test_np_model.ipynb.\n",
      "Converted 20a_gui_capture_command.ipynb.\n",
      "Converted 20a_gui_main.ipynb.\n",
      "Converted 70_cli.ipynb.\n",
      "Converted index.ipynb.\n",
      "Converted project_lifecycle.ipynb.\n"
     ]
    }
   ],
   "source": [
    "#hide\n",
    "from nbdev.export import notebook2script\n",
    "notebook2script()"
   ]
  }
 ],
 "metadata": {
  "kernelspec": {
   "display_name": "Python 3 (ipykernel)",
   "language": "python",
   "name": "python3"
  },
  "language_info": {
   "codemirror_mode": {
    "name": "ipython",
    "version": 3
   },
   "file_extension": ".py",
   "mimetype": "text/x-python",
   "name": "python",
   "nbconvert_exporter": "python",
   "pygments_lexer": "ipython3",
   "version": "3.8.0"
  }
 },
 "nbformat": 4,
 "nbformat_minor": 2
}
