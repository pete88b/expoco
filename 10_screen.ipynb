{
 "cells": [
  {
   "cell_type": "code",
   "execution_count": null,
   "metadata": {},
   "outputs": [],
   "source": [
    "#default_exp screen"
   ]
  },
  {
   "cell_type": "markdown",
   "metadata": {},
   "source": [
    "# Screen\n",
    "\n",
    "> API details."
   ]
  },
  {
   "cell_type": "code",
   "execution_count": null,
   "metadata": {},
   "outputs": [],
   "source": [
    "#export\n",
    "from abc import ABC,abstractmethod"
   ]
  },
  {
   "cell_type": "code",
   "execution_count": null,
   "metadata": {},
   "outputs": [],
   "source": [
    "#export\n",
    "class ScreenABC(ABC):\n",
    "    @abstractmethod\n",
    "    def get_screen_size(self): \n",
    "        \"Return the `size` of the screen: [screen_width, screen_height]\""
   ]
  },
  {
   "cell_type": "code",
   "execution_count": null,
   "metadata": {},
   "outputs": [],
   "source": [
    "class MockScreen(ScreenABC):\n",
    "    def get_screen_size(self):\n",
    "        return [1024, 768]"
   ]
  },
  {
   "cell_type": "code",
   "execution_count": null,
   "metadata": {},
   "outputs": [],
   "source": [
    "s = MockScreen()\n",
    "assert s.get_screen_size() == [1024, 768]"
   ]
  },
  {
   "cell_type": "markdown",
   "metadata": {},
   "source": [
    "## Convert a point on a screen to a \"zone\"\n",
    "\n",
    "\"zones\" tell us how far the cursor is from the center of the screen.\n",
    "\n",
    "The following image shows how a display could be divided into 3 zones;"
   ]
  },
  {
   "cell_type": "code",
   "execution_count": null,
   "metadata": {},
   "outputs": [
    {
     "data": {
      "image/png": "[encoded data removed]",
      "text/plain": [
       "<IPython.core.display.Image object>"
      ]
     },
     "metadata": {},
     "output_type": "display_data"
    }
   ],
   "source": [
    "#hide_input\n",
    "import numpy as np\n",
    "import cv2\n",
    "from IPython.display import display, Image\n",
    "width, height = 300, 200\n",
    "image = np.zeros((height, width, 1), np.uint8)\n",
    "image = cv2.rectangle(image, [width//2-100, height//2-67], [width//2+100, height//2+67], 156, -1)\n",
    "image = cv2.rectangle(image, [width//2-50, height//2-33], [width//2+50, height//2+33], 256, -1)\n",
    "cv2.putText(image,\"zone: 0\", (102,80), cv2.FONT_HERSHEY_COMPLEX, .5, 0)\n",
    "cv2.putText(image,\"zone: 1\", (52,47), cv2.FONT_HERSHEY_COMPLEX, .5, 0)\n",
    "cv2.putText(image,\"zone: 2\", (5,16), cv2.FONT_HERSHEY_COMPLEX, .5, 256)\n",
    "display(Image(cv2.imencode('.png', image)[1].tobytes()))"
   ]
  },
  {
   "cell_type": "code",
   "execution_count": null,
   "metadata": {},
   "outputs": [],
   "source": [
    "#export\n",
    "def to_screen_zone(screen_size, point):\n",
    "    \"Return the zone of a `point` within a screen\"\n",
    "    #TODO: we're assuming screen is landscape \n",
    "    screen_center = [i//2 for i in screen_size]\n",
    "    distances = [abs(a-b) for a,b in zip(point,screen_center)]\n",
    "    distances[0] = distances[0] // (screen_size[0] // screen_size[1])\n",
    "    return distances[0] if distances[0] > distances[1] else distances[1]"
   ]
  },
  {
   "cell_type": "markdown",
   "metadata": {},
   "source": [
    "This function uses the most granular zone strategy possible. The total number of zones will be ~half the screen height."
   ]
  },
  {
   "cell_type": "code",
   "execution_count": null,
   "metadata": {},
   "outputs": [],
   "source": [
    "for i in range(6):\n",
    "    assert i == to_screen_zone([100,10], [50,5+i])\n",
    "for i in range(6):\n",
    "    for j in range(10):\n",
    "        assert i == to_screen_zone([100,10], [50+(i*10)+j,5])"
   ]
  },
  {
   "cell_type": "markdown",
   "metadata": {},
   "source": [
    "# Windows specific implementations"
   ]
  },
  {
   "cell_type": "code",
   "execution_count": null,
   "metadata": {},
   "outputs": [],
   "source": [
    "#export\n",
    "def new_windows_screen():\n",
    "    import win32api\n",
    "    class WindowsScreen(ScreenABC):\n",
    "        def get_screen_size(self):\n",
    "            return win32api.GetSystemMetrics(0), win32api.GetSystemMetrics(1)\n",
    "    return WindowsScreen()"
   ]
  },
  {
   "cell_type": "markdown",
   "metadata": {},
   "source": [
    "```\n",
    "new_windows_screen().get_screen_size()\n",
    "```"
   ]
  }
 ],
 "metadata": {
  "kernelspec": {
   "display_name": "Python 3",
   "language": "python",
   "name": "python3"
  }
 },
 "nbformat": 4,
 "nbformat_minor": 4
}
