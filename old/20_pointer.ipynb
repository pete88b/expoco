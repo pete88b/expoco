{
 "cells": [
  {
   "cell_type": "code",
   "execution_count": null,
   "metadata": {},
   "outputs": [],
   "source": [
    "#default_exp pointer"
   ]
  },
  {
   "cell_type": "markdown",
   "metadata": {},
   "source": [
    "# Pointer\n",
    "\n",
    "> API details."
   ]
  },
  {
   "cell_type": "code",
   "execution_count": null,
   "metadata": {},
   "outputs": [],
   "source": [
    "#export\n",
    "import random\n",
    "from abc import ABC,abstractmethod\n",
    "from expoco.core import *"
   ]
  },
  {
   "cell_type": "code",
   "execution_count": null,
   "metadata": {},
   "outputs": [],
   "source": [
    "#export\n",
    "class PointerABC(ABC):\n",
    "    @abstractmethod\n",
    "    def move_to(self, point): \n",
    "        \"Move the pointer to `point`\"\n",
    "        \n",
    "    @abstractmethod\n",
    "    def get_position(self): \n",
    "        \"Return the position of the pointer\"\n",
    "        \n",
    "    def random_move_to(self, screen_size):\n",
    "        point = [random.randint(0, i) for i in screen_size]\n",
    "        self.move_to(point)\n",
    "        return point"
   ]
  },
  {
   "cell_type": "code",
   "execution_count": null,
   "metadata": {},
   "outputs": [],
   "source": [
    "class MockPointer(PointerABC):\n",
    "    def __init__(self):\n",
    "        self.position = None\n",
    "    def move_to(self, point):\n",
    "        self.position = point\n",
    "        print('MockPointer#move_to', point)\n",
    "    def get_position(self):\n",
    "        print('MockPointer#get_position', self.position)\n",
    "        return self.position"
   ]
  },
  {
   "cell_type": "code",
   "execution_count": null,
   "metadata": {},
   "outputs": [
    {
     "name": "stdout",
     "output_type": "stream",
     "text": [
      "MockPointer#move_to [5, 5]\n",
      "MockPointer#get_position [5, 5]\n"
     ]
    },
    {
     "data": {
      "text/plain": [
       "[5, 5]"
      ]
     },
     "execution_count": null,
     "metadata": {},
     "output_type": "execute_result"
    }
   ],
   "source": [
    "p = MockPointer()\n",
    "p.random_move_to([10,20])\n",
    "p.get_position()"
   ]
  },
  {
   "cell_type": "markdown",
   "metadata": {},
   "source": [
    "# Windows specific implementations"
   ]
  },
  {
   "cell_type": "code",
   "execution_count": null,
   "metadata": {},
   "outputs": [],
   "source": [
    "#export\n",
    "def new_windows_pointer():\n",
    "    import win32api\n",
    "    class WindowsPointer(PointerABC):\n",
    "        def move_to(self, point):\n",
    "            win32api.SetCursorPos(point)\n",
    "        def get_position(self):\n",
    "            return win32api.GetCursorPos()\n",
    "    return WindowsPointer()\n",
    "\n",
    "add_device_control_function('windows', 'pointer', new_windows_pointer)"
   ]
  },
  {
   "cell_type": "markdown",
   "metadata": {},
   "source": [
    "```\n",
    "new_windows_pointer().random_move_to([10,20])\n",
    "```"
   ]
  },
  {
   "cell_type": "code",
   "execution_count": null,
   "metadata": {},
   "outputs": [
    {
     "name": "stdout",
     "output_type": "stream",
     "text": [
      "Converted 00_core.ipynb.\n",
      "Converted 10_screen.ipynb.\n",
      "Converted 20_pointer.ipynb.\n",
      "Converted 30_keyboard.ipynb.\n",
      "Converted 40_video.ipynb.\n",
      "Converted 90_cli.ipynb.\n",
      "Converted index.ipynb.\n",
      "Converted project_lifecycle.ipynb.\n"
     ]
    }
   ],
   "source": [
    "#hide\n",
    "from nbdev.export import notebook2script\n",
    "notebook2script()"
   ]
  }
 ],
 "metadata": {
  "kernelspec": {
   "display_name": "Python 3 (ipykernel)",
   "language": "python",
   "name": "python3"
  }
 },
 "nbformat": 4,
 "nbformat_minor": 4
}
