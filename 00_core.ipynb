{
 "cells": [
  {
   "cell_type": "code",
   "execution_count": 1,
   "id": "cd5e2182",
   "metadata": {},
   "outputs": [],
   "source": [
    "# default_exp core"
   ]
  },
  {
   "cell_type": "markdown",
   "id": "0042ebe0",
   "metadata": {},
   "source": [
    "# Core\n",
    "\n",
    "> API details."
   ]
  },
  {
   "cell_type": "code",
   "execution_count": 2,
   "id": "5524522f",
   "metadata": {},
   "outputs": [],
   "source": [
    "#export\n",
    "from dataclasses import dataclass\n",
    "from pathlib import Path\n",
    "import datetime, json"
   ]
  },
  {
   "cell_type": "code",
   "execution_count": 3,
   "id": "3f2e40bf",
   "metadata": {},
   "outputs": [],
   "source": [
    "#export\n",
    "def now(): \n",
    "    return datetime.datetime.utcnow().strftime('%Y%m%d_%H%M%S')"
   ]
  },
  {
   "cell_type": "code",
   "execution_count": 4,
   "id": "6dadca3f",
   "metadata": {},
   "outputs": [],
   "source": [
    "#export\n",
    "def get_dict_subset(d, name_prefix, remove_prefix=True, remove_additional_characters=1):\n",
    "    \"Return a subset of entries from a dictionary like object\"\n",
    "    if name_prefix is None or name_prefix == '': return d\n",
    "    def _rm_prefix(k):\n",
    "        if not remove_prefix: return k\n",
    "        return k[len(name_prefix)+remove_additional_characters:]\n",
    "    return {_rm_prefix(k): d[k] for k in d if k.startswith(name_prefix)}"
   ]
  },
  {
   "cell_type": "markdown",
   "id": "71f021f4",
   "metadata": {},
   "source": [
    "A pytorch state dict will have keys like\n",
    "```\n",
    "[...\n",
    " 'layers.0.0.weight',\n",
    " 'layers.0.2.weight',\n",
    " 'layers.0.2.bias',\n",
    " 'layers.0.2.running_mean',\n",
    " 'layers.0.2.running_var',\n",
    " 'layers.0.2.num_batches_tracked',\n",
    " ...\n",
    " 'layers.2.0.weight',\n",
    " 'layers.2.0.bias']\n",
    "```\n",
    "so can get all state for a module with something like;\n",
    "```\n",
    "get_dict_subset(state_dict, 'layers.2.0')\n",
    "```\n",
    "which returns\n",
    "```\n",
    "{'weight': [...], 'bias': [...]}\n",
    "```"
   ]
  },
  {
   "cell_type": "code",
   "execution_count": 5,
   "id": "3e9b3704",
   "metadata": {},
   "outputs": [],
   "source": [
    "test_dict = {}\n",
    "for p1 in ['a','b','c']:\n",
    "    for p2 in ['a','b','c']:\n",
    "        test_dict[f'{p1}.{p2}']=f'{p1}.{p2}.value'\n",
    "\n",
    "expected = {'a': 'b.a.value', 'b': 'b.b.value', 'c': 'b.c.value'}\n",
    "assert get_dict_subset(test_dict, 'b') == expected\n",
    "expected = {'b.a': 'b.a.value', 'b.b': 'b.b.value', 'b.c': 'b.c.value'}\n",
    "assert get_dict_subset(test_dict, 'b', False) == expected\n",
    "expected = {'.a': 'b.a.value', '.b': 'b.b.value', '.c': 'b.c.value'}\n",
    "assert get_dict_subset(test_dict, 'b', True, 0) == expected"
   ]
  },
  {
   "cell_type": "code",
   "execution_count": 6,
   "id": "277a556e",
   "metadata": {},
   "outputs": [],
   "source": [
    "#export\n",
    "@dataclass(frozen=True) # frozen doesn't really help (o: but we don't want to change values of this data class\n",
    "class FaceLandmarks:\n",
    "    count=468\n",
    "    top_lip_indent=0\n",
    "    tip_of_nose=1\n",
    "    pointer = [1, 5, 2, 218, 438] # tip_of_nose,up,down,left,right\n",
    "    mouth = [0, 11, 12, 13, 14, 15, 16, 17, 18, 37, 38, 39, 40, 41, 42, 43, 57, 61, 62, 72, 73, 74, 76, 77, 78, 80, 81, 82, 83, 84, 85, 86, 87, 88, 89, 90, 91, 92, 95, 96, 106, 146, 164, 165, 167, 178, 179, 180, 181, 182, 183, 184, 185, 186, 191, 204, 267, 268, 269, 270, 271, 272, 273, 287, 291, 292, 302, 303, 304, 306, 307, 308, 310, 311, 312, 313, 314, 315, 316, 317, 318, 319, 320, 321, 322, 324, 325, 335, 375, 391, 393, 402, 403, 404, 405, 406, 407, 408, 409, 410, 415, 424]"
   ]
  },
  {
   "cell_type": "code",
   "execution_count": 15,
   "id": "51b04ae8",
   "metadata": {},
   "outputs": [],
   "source": [
    "#export\n",
    "class VisemeConfig:\n",
    "    def __init__(self, path='data'):\n",
    "        with open(Path(path)/'viseme-config.json') as f: \n",
    "            self.config = json.load(f)\n",
    "    def get_class_label(self, class_id):\n",
    "        return self.config['expressions'][str(class_id)]\n",
    "    def get_class_ids_and_labels(self):\n",
    "        items = self.config['expressions'].items()\n",
    "        return [int(i) for i, j in items], [j for i, j in items]\n",
    "        # we could use the bellow, if we didn't have to convert class IDs to int\n",
    "        # return list(zip(*self.config['expressions'].items()))"
   ]
  },
  {
   "cell_type": "code",
   "execution_count": 17,
   "id": "43c36541",
   "metadata": {},
   "outputs": [],
   "source": [
    "viseme_config = VisemeConfig()\n",
    "assert 'oo' == viseme_config.get_class_label(1)\n",
    "class_ids, class_labels = viseme_config.get_class_ids_and_labels()\n",
    "assert class_ids == [0, 1, 2, 3, 4]\n",
    "assert class_labels == ['No expression', 'oo', 'ee', 'ah', 'Random Talking']"
   ]
  },
  {
   "cell_type": "code",
   "execution_count": 9,
   "id": "f445cdcc",
   "metadata": {},
   "outputs": [],
   "source": [
    "#export\n",
    "class LogFile:\n",
    "    def __init__(self, path):\n",
    "        self.path = Path(path)\n",
    "        print('LogFile:', self.path.resolve())\n",
    "    def __call__(self, *args):\n",
    "        with open(self.path, 'a') as f:\n",
    "            f.write(' '.join([str(arg) for arg in args]) + '\\n')\n",
    "        return self"
   ]
  },
  {
   "cell_type": "code",
   "execution_count": 10,
   "id": "275ab063",
   "metadata": {},
   "outputs": [
    {
     "name": "stdout",
     "output_type": "stream",
     "text": [
      "LogFile: C:\\Users\\Butterp\\AppData\\Local\\Temp\\tmpocae2odd\\a.log\n"
     ]
    }
   ],
   "source": [
    "import tempfile, shutil\n",
    "\n",
    "temp_path = Path(tempfile.mkdtemp())\n",
    "try:\n",
    "    log = LogFile(temp_path/'a.log')\n",
    "    log('line1')\n",
    "    log(2)\n",
    "    log('line3\\nline4')\n",
    "    log('line5')(6) # TODO: chaining is possible but I'm not sure it's a good idea?\n",
    "    (log('line7')\n",
    "     ('line8')\n",
    "     (9))\n",
    "    expected = \"line1.2.line3.line4.line5.6.line7.line8.9.\".replace('.', '\\n')\n",
    "    with open(temp_path/'a.log') as f:\n",
    "        actual = f.read()\n",
    "    assert actual == expected\n",
    "finally:\n",
    "    shutil.rmtree(temp_path)"
   ]
  },
  {
   "cell_type": "code",
   "execution_count": 18,
   "id": "13ef10c8",
   "metadata": {},
   "outputs": [
    {
     "name": "stdout",
     "output_type": "stream",
     "text": [
      "Converted 00_core.ipynb.\n",
      "Converted 05a_ml_data.ipynb.\n",
      "Converted 05b_ml_model.ipynb.\n",
      "Converted 10a_mediapipe_face_mesh_identify_landmarks.ipynb.\n",
      "No export destination, ignored:\n",
      "#export\n",
      "import ipywidgets as widgets\n",
      "import numpy as np\n",
      "import pandas as pd\n",
      "import cv2, time, math, json, shutil\n",
      "import win32api, win32con\n",
      "\n",
      "import mediapipe as mp\n",
      "mp_face_mesh = mp.solutions.face_mesh\n",
      "\n",
      "from pathlib import Path\n",
      "No export destination, ignored:\n",
      "#export\n",
      "def _now(): \n",
      "    return datetime.datetime.utcnow().strftime('%Y%m%d_%H%M%S')\n",
      "No export destination, ignored:\n",
      "#export\n",
      "def _new_capture_metadata(stop_after, path, video_capture, expression_id, comments):\n",
      "    width, height = [int(video_capture.get(p)) for p in [cv2.CAP_PROP_FRAME_WIDTH, cv2.CAP_PROP_FRAME_HEIGHT]]\n",
      "    assert width >= height\n",
      "    return dict(count=0, stop_after=stop_after, path=str(path.resolve()), expression_id=expression_id,\n",
      "                capture_width=width, capture_height=height, start_date=_now(), comments=comments)\n",
      "No export destination, ignored:\n",
      "#export\n",
      "def capture_session(expression_id, stop_after, comments):\n",
      "    \"Run a video capture session\"\n",
      "    expression_id, expression_name, path, video_capture, width, height = _setup_variables(expression_id)\n",
      "    face_mesh = mp_face_mesh.FaceMesh(max_num_faces=1)\n",
      "    data = _setup_data()\n",
      "    image, _ = _capture_and_process(video_capture, face_mesh)\n",
      "    image_widget = widgets.Image(value=cv2.imencode('.png', image)[1].tobytes())\n",
      "    display(image_widget)\n",
      "    try:\n",
      "        _countdown(video_capture, expression_name, image_widget, face_mesh)\n",
      "        capture_metadata = _new_capture_metadata(stop_after, path, video_capture, expression_id, comments)\n",
      "        for capture_count in range(1, stop_after+1):\n",
      "            image, results = _capture_and_process(video_capture, face_mesh)\n",
      "            _update_image(image, image_widget, f'{expression_name} {capture_count}')\n",
      "            _save_results(path, results, data, image, capture_count)\n",
      "            time.sleep(.05)\n",
      "        capture_metadata['count'] = capture_count\n",
      "        capture_metadata['end_data'] = _now()\n",
      "        with open(path/'capture_metadata.json', 'w') as f: json.dump(capture_metadata, f, indent=2)\n",
      "        pd.DataFrame(data).to_csv(path/'data.csv', index=False)\n",
      "    finally:\n",
      "        video_capture.release()\n",
      "    return path\n",
      "Warning: Exporting to \"None.py\" but this module is not part of this build\n"
     ]
    },
    {
     "ename": "FileNotFoundError",
     "evalue": "[Errno 2] No such file or directory: 'C:\\\\Users\\\\Butterp\\\\github\\\\pete88b\\\\expoco\\\\expoco\\\\None.py'",
     "output_type": "error",
     "traceback": [
      "\u001b[1;31m---------------------------------------------------------------------------\u001b[0m",
      "\u001b[1;31mFileNotFoundError\u001b[0m                         Traceback (most recent call last)",
      "\u001b[1;32m~\\AppData\\Local\\Temp/ipykernel_17868/510407576.py\u001b[0m in \u001b[0;36m<module>\u001b[1;34m\u001b[0m\n\u001b[0;32m      1\u001b[0m \u001b[1;31m#hide\u001b[0m\u001b[1;33m\u001b[0m\u001b[1;33m\u001b[0m\u001b[1;33m\u001b[0m\u001b[0m\n\u001b[0;32m      2\u001b[0m \u001b[1;32mfrom\u001b[0m \u001b[0mnbdev\u001b[0m\u001b[1;33m.\u001b[0m\u001b[0mexport\u001b[0m \u001b[1;32mimport\u001b[0m \u001b[0mnotebook2script\u001b[0m\u001b[1;33m\u001b[0m\u001b[1;33m\u001b[0m\u001b[0m\n\u001b[1;32m----> 3\u001b[1;33m \u001b[0mnotebook2script\u001b[0m\u001b[1;33m(\u001b[0m\u001b[1;33m)\u001b[0m\u001b[1;33m\u001b[0m\u001b[1;33m\u001b[0m\u001b[0m\n\u001b[0m",
      "\u001b[1;32m~\\Miniconda3\\envs\\expoco\\lib\\site-packages\\nbdev\\export.py\u001b[0m in \u001b[0;36mnotebook2script\u001b[1;34m(fname, silent, to_dict, bare)\u001b[0m\n\u001b[0;32m    428\u001b[0m     \u001b[0md\u001b[0m \u001b[1;33m=\u001b[0m \u001b[0mcollections\u001b[0m\u001b[1;33m.\u001b[0m\u001b[0mdefaultdict\u001b[0m\u001b[1;33m(\u001b[0m\u001b[0mlist\u001b[0m\u001b[1;33m)\u001b[0m \u001b[1;32mif\u001b[0m \u001b[0mto_dict\u001b[0m \u001b[1;32melse\u001b[0m \u001b[1;32mNone\u001b[0m\u001b[1;33m\u001b[0m\u001b[1;33m\u001b[0m\u001b[0m\n\u001b[0;32m    429\u001b[0m     \u001b[0mmodules\u001b[0m \u001b[1;33m=\u001b[0m \u001b[0mcreate_mod_files\u001b[0m\u001b[1;33m(\u001b[0m\u001b[0mfiles\u001b[0m\u001b[1;33m,\u001b[0m \u001b[0mto_dict\u001b[0m\u001b[1;33m,\u001b[0m \u001b[0mbare\u001b[0m\u001b[1;33m=\u001b[0m\u001b[0mbare\u001b[0m\u001b[1;33m)\u001b[0m\u001b[1;33m\u001b[0m\u001b[1;33m\u001b[0m\u001b[0m\n\u001b[1;32m--> 430\u001b[1;33m     \u001b[1;32mfor\u001b[0m \u001b[0mf\u001b[0m \u001b[1;32min\u001b[0m \u001b[0msorted\u001b[0m\u001b[1;33m(\u001b[0m\u001b[0mfiles\u001b[0m\u001b[1;33m)\u001b[0m\u001b[1;33m:\u001b[0m \u001b[0md\u001b[0m \u001b[1;33m=\u001b[0m \u001b[0m_notebook2script\u001b[0m\u001b[1;33m(\u001b[0m\u001b[0mf\u001b[0m\u001b[1;33m,\u001b[0m \u001b[0mmodules\u001b[0m\u001b[1;33m,\u001b[0m \u001b[0msilent\u001b[0m\u001b[1;33m=\u001b[0m\u001b[0msilent\u001b[0m\u001b[1;33m,\u001b[0m \u001b[0mto_dict\u001b[0m\u001b[1;33m=\u001b[0m\u001b[0md\u001b[0m\u001b[1;33m,\u001b[0m \u001b[0mbare\u001b[0m\u001b[1;33m=\u001b[0m\u001b[0mbare\u001b[0m\u001b[1;33m)\u001b[0m\u001b[1;33m\u001b[0m\u001b[1;33m\u001b[0m\u001b[0m\n\u001b[0m\u001b[0;32m    431\u001b[0m     \u001b[1;32mif\u001b[0m \u001b[0mto_dict\u001b[0m\u001b[1;33m:\u001b[0m \u001b[1;32mreturn\u001b[0m \u001b[0md\u001b[0m\u001b[1;33m\u001b[0m\u001b[1;33m\u001b[0m\u001b[0m\n\u001b[0;32m    432\u001b[0m     \u001b[1;32melse\u001b[0m\u001b[1;33m:\u001b[0m \u001b[0madd_init\u001b[0m\u001b[1;33m(\u001b[0m\u001b[0mget_config\u001b[0m\u001b[1;33m(\u001b[0m\u001b[1;33m)\u001b[0m\u001b[1;33m.\u001b[0m\u001b[0mpath\u001b[0m\u001b[1;33m(\u001b[0m\u001b[1;34m\"lib_path\"\u001b[0m\u001b[1;33m)\u001b[0m\u001b[1;33m)\u001b[0m\u001b[1;33m\u001b[0m\u001b[1;33m\u001b[0m\u001b[0m\n",
      "\u001b[1;32m~\\Miniconda3\\envs\\expoco\\lib\\site-packages\\nbdev\\export.py\u001b[0m in \u001b[0;36m_notebook2script\u001b[1;34m(fname, modules, silent, to_dict, bare)\u001b[0m\n\u001b[0;32m    355\u001b[0m         \u001b[0mcode\u001b[0m \u001b[1;33m=\u001b[0m \u001b[0m_from_future_import\u001b[0m\u001b[1;33m(\u001b[0m\u001b[0mfname_out\u001b[0m\u001b[1;33m,\u001b[0m \u001b[0mflags\u001b[0m\u001b[1;33m,\u001b[0m \u001b[0mcode\u001b[0m\u001b[1;33m,\u001b[0m \u001b[0mto_dict\u001b[0m\u001b[1;33m)\u001b[0m\u001b[1;33m\u001b[0m\u001b[1;33m\u001b[0m\u001b[0m\n\u001b[0;32m    356\u001b[0m         \u001b[1;32mif\u001b[0m \u001b[0ma\u001b[0m\u001b[1;33m:\u001b[0m\u001b[1;33m\u001b[0m\u001b[1;33m\u001b[0m\u001b[0m\n\u001b[1;32m--> 357\u001b[1;33m             \u001b[1;32mif\u001b[0m \u001b[0mto_dict\u001b[0m \u001b[1;32mis\u001b[0m \u001b[1;32mNone\u001b[0m\u001b[1;33m:\u001b[0m \u001b[0m_add2all\u001b[0m\u001b[1;33m(\u001b[0m\u001b[0mfname_out\u001b[0m\u001b[1;33m,\u001b[0m \u001b[1;33m[\u001b[0m\u001b[1;34mf\"'{f}'\"\u001b[0m \u001b[1;32mfor\u001b[0m \u001b[0mf\u001b[0m \u001b[1;32min\u001b[0m \u001b[0mnames\u001b[0m \u001b[1;32mif\u001b[0m \u001b[1;34m'.'\u001b[0m \u001b[1;32mnot\u001b[0m \u001b[1;32min\u001b[0m \u001b[0mf\u001b[0m \u001b[1;32mand\u001b[0m \u001b[0mlen\u001b[0m\u001b[1;33m(\u001b[0m\u001b[0mf\u001b[0m\u001b[1;33m)\u001b[0m \u001b[1;33m>\u001b[0m \u001b[1;36m0\u001b[0m\u001b[1;33m]\u001b[0m \u001b[1;33m+\u001b[0m \u001b[0mextra\u001b[0m\u001b[1;33m)\u001b[0m\u001b[1;33m\u001b[0m\u001b[1;33m\u001b[0m\u001b[0m\n\u001b[0m\u001b[0;32m    358\u001b[0m         \u001b[0mmod\u001b[0m\u001b[1;33m.\u001b[0m\u001b[0mindex\u001b[0m\u001b[1;33m.\u001b[0m\u001b[0mupdate\u001b[0m\u001b[1;33m(\u001b[0m\u001b[1;33m{\u001b[0m\u001b[0mf\u001b[0m\u001b[1;33m:\u001b[0m \u001b[0mfname\u001b[0m\u001b[1;33m.\u001b[0m\u001b[0mname\u001b[0m \u001b[1;32mfor\u001b[0m \u001b[0mf\u001b[0m \u001b[1;32min\u001b[0m \u001b[0mnames\u001b[0m\u001b[1;33m}\u001b[0m\u001b[1;33m)\u001b[0m\u001b[1;33m\u001b[0m\u001b[1;33m\u001b[0m\u001b[0m\n\u001b[0;32m    359\u001b[0m         \u001b[0mcode\u001b[0m \u001b[1;33m=\u001b[0m \u001b[0mre\u001b[0m\u001b[1;33m.\u001b[0m\u001b[0msub\u001b[0m\u001b[1;33m(\u001b[0m\u001b[1;34mr' +$'\u001b[0m\u001b[1;33m,\u001b[0m \u001b[1;34m''\u001b[0m\u001b[1;33m,\u001b[0m \u001b[0mcode\u001b[0m\u001b[1;33m,\u001b[0m \u001b[0mflags\u001b[0m\u001b[1;33m=\u001b[0m\u001b[0mre\u001b[0m\u001b[1;33m.\u001b[0m\u001b[0mMULTILINE\u001b[0m\u001b[1;33m)\u001b[0m\u001b[1;33m\u001b[0m\u001b[1;33m\u001b[0m\u001b[0m\n",
      "\u001b[1;32m~\\Miniconda3\\envs\\expoco\\lib\\site-packages\\nbdev\\export.py\u001b[0m in \u001b[0;36m_add2all\u001b[1;34m(fname, names, line_width)\u001b[0m\n\u001b[0;32m    206\u001b[0m \u001b[1;32mdef\u001b[0m \u001b[0m_add2all\u001b[0m\u001b[1;33m(\u001b[0m\u001b[0mfname\u001b[0m\u001b[1;33m,\u001b[0m \u001b[0mnames\u001b[0m\u001b[1;33m,\u001b[0m \u001b[0mline_width\u001b[0m\u001b[1;33m=\u001b[0m\u001b[1;36m120\u001b[0m\u001b[1;33m)\u001b[0m\u001b[1;33m:\u001b[0m\u001b[1;33m\u001b[0m\u001b[1;33m\u001b[0m\u001b[0m\n\u001b[0;32m    207\u001b[0m     \u001b[1;32mif\u001b[0m \u001b[0mlen\u001b[0m\u001b[1;33m(\u001b[0m\u001b[0mnames\u001b[0m\u001b[1;33m)\u001b[0m \u001b[1;33m==\u001b[0m \u001b[1;36m0\u001b[0m\u001b[1;33m:\u001b[0m \u001b[1;32mreturn\u001b[0m\u001b[1;33m\u001b[0m\u001b[1;33m\u001b[0m\u001b[0m\n\u001b[1;32m--> 208\u001b[1;33m     \u001b[1;32mwith\u001b[0m \u001b[0mopen\u001b[0m\u001b[1;33m(\u001b[0m\u001b[0mfname\u001b[0m\u001b[1;33m,\u001b[0m \u001b[1;34m'r'\u001b[0m\u001b[1;33m,\u001b[0m \u001b[0mencoding\u001b[0m\u001b[1;33m=\u001b[0m\u001b[1;34m'utf8'\u001b[0m\u001b[1;33m)\u001b[0m \u001b[1;32mas\u001b[0m \u001b[0mf\u001b[0m\u001b[1;33m:\u001b[0m \u001b[0mtext\u001b[0m \u001b[1;33m=\u001b[0m \u001b[0mf\u001b[0m\u001b[1;33m.\u001b[0m\u001b[0mread\u001b[0m\u001b[1;33m(\u001b[0m\u001b[1;33m)\u001b[0m\u001b[1;33m\u001b[0m\u001b[1;33m\u001b[0m\u001b[0m\n\u001b[0m\u001b[0;32m    209\u001b[0m     \u001b[0mtw\u001b[0m \u001b[1;33m=\u001b[0m \u001b[0mTextWrapper\u001b[0m\u001b[1;33m(\u001b[0m\u001b[0mwidth\u001b[0m\u001b[1;33m=\u001b[0m\u001b[1;36m120\u001b[0m\u001b[1;33m,\u001b[0m \u001b[0minitial_indent\u001b[0m\u001b[1;33m=\u001b[0m\u001b[1;34m''\u001b[0m\u001b[1;33m,\u001b[0m \u001b[0msubsequent_indent\u001b[0m\u001b[1;33m=\u001b[0m\u001b[1;34m' '\u001b[0m\u001b[1;33m*\u001b[0m\u001b[1;36m11\u001b[0m\u001b[1;33m,\u001b[0m \u001b[0mbreak_long_words\u001b[0m\u001b[1;33m=\u001b[0m\u001b[1;32mFalse\u001b[0m\u001b[1;33m)\u001b[0m\u001b[1;33m\u001b[0m\u001b[1;33m\u001b[0m\u001b[0m\n\u001b[0;32m    210\u001b[0m     \u001b[0mre_all\u001b[0m \u001b[1;33m=\u001b[0m \u001b[0m_re__all__def\u001b[0m\u001b[1;33m.\u001b[0m\u001b[0msearch\u001b[0m\u001b[1;33m(\u001b[0m\u001b[0mtext\u001b[0m\u001b[1;33m)\u001b[0m\u001b[1;33m\u001b[0m\u001b[1;33m\u001b[0m\u001b[0m\n",
      "\u001b[1;31mFileNotFoundError\u001b[0m: [Errno 2] No such file or directory: 'C:\\\\Users\\\\Butterp\\\\github\\\\pete88b\\\\expoco\\\\expoco\\\\None.py'"
     ]
    }
   ],
   "source": [
    "#hide\n",
    "from nbdev.export import notebook2script\n",
    "notebook2script()"
   ]
  }
 ],
 "metadata": {
  "kernelspec": {
   "display_name": "Python 3 (ipykernel)",
   "language": "python",
   "name": "python3"
  },
  "language_info": {
   "codemirror_mode": {
    "name": "ipython",
    "version": 3
   },
   "file_extension": ".py",
   "mimetype": "text/x-python",
   "name": "python",
   "nbconvert_exporter": "python",
   "pygments_lexer": "ipython3",
   "version": "3.8.0"
  }
 },
 "nbformat": 4,
 "nbformat_minor": 5
}
