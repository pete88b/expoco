{
 "cells": [
  {
   "cell_type": "code",
   "execution_count": 1,
   "id": "2b9637dc",
   "metadata": {},
   "outputs": [],
   "source": [
    "# default_exp viseme_tabular.model"
   ]
  },
  {
   "cell_type": "markdown",
   "id": "2a8591ce",
   "metadata": {},
   "source": [
    "# Tabular model\n",
    "\n",
    "> Tabular model definition and helper functions."
   ]
  },
  {
   "cell_type": "markdown",
   "id": "12c7ff84",
   "metadata": {},
   "source": [
    "I wanted to try some \"light\" options for inference - i.e. we want to be able to train models with fastai/pytorch but then run the trained models on machines without GPU, using as little resources as possible.\n",
    "\n",
    "For the tabular model, we'll implement forward pass only \"Modules\" in numpy, saving and loading trained weights as numpy arrays. For me, this is an interesting thing to build - but for \"real\" projects, we'd probably want to use onnx (which we do for image models)."
   ]
  },
  {
   "cell_type": "code",
   "execution_count": 2,
   "id": "d5514dc2",
   "metadata": {},
   "outputs": [],
   "source": [
    "#export\n",
    "from expoco.core import *\n",
    "from pathlib import Path\n",
    "import numpy as np\n",
    "import json"
   ]
  },
  {
   "cell_type": "code",
   "execution_count": 3,
   "id": "4ddddc0d",
   "metadata": {},
   "outputs": [],
   "source": [
    "from expoco.viseme_tabular.data import read_processed_dataset, get_image_path\n",
    "import matplotlib.pyplot as plt\n",
    "import pandas as pd\n",
    "import tempfile, shutil"
   ]
  },
  {
   "cell_type": "markdown",
   "id": "384f5855",
   "metadata": {},
   "source": [
    "## Saving model state"
   ]
  },
  {
   "cell_type": "code",
   "execution_count": 4,
   "id": "2b9c0ec7",
   "metadata": {},
   "outputs": [],
   "source": [
    "#export\n",
    "def save_state_dict(path, state_dict, **training_info):\n",
    "    \"Saves `state_dict` and `training_info` to a new model directory\"\n",
    "    path, model_id = Path(path), now()\n",
    "    output_path = path/f'model_{model_id}'\n",
    "    output_path.mkdir()\n",
    "    file_name = output_path/'state_dict.npz'\n",
    "    metadata = dict(path=path_to_str(path), output_path=path_to_str(output_path), \n",
    "                    file_name=path_to_str(file_name), training_info=training_info)\n",
    "    with open(output_path/'metadata.json', 'w') as f: json.dump(metadata, f, indent=2)\n",
    "    np.savez(file_name, **{k:state_dict[k].detach().cpu().numpy() for k in state_dict})\n",
    "    with np.load(file_name) as _: pass # check that we didn't need to pickle\n",
    "    return output_path"
   ]
  },
  {
   "cell_type": "markdown",
   "id": "8706124f",
   "metadata": {},
   "source": [
    "- `path` directory to create the new model directory in\n",
    "    - usually, this will be processed data directory; e.g. `data/viseme_tabular_dataset_20211116_113131/processed_20211117_200746`\n",
    "    - which would create something like `data/viseme_tabular_dataset_20211116_113131/processed_20211117_200746/model_20211117_201151`\n",
    "- `state_dict` a pytorch state_dict - i.e. a dictionary of tensors\n",
    "- `training_info` any info needed to repeat the model training (can also include model metrics etc)"
   ]
  },
  {
   "cell_type": "code",
   "execution_count": 5,
   "id": "c5ccb8d6",
   "metadata": {},
   "outputs": [],
   "source": [
    "temp_path = Path(tempfile.mkdtemp())\n",
    "try:\n",
    "    output_path = save_state_dict(temp_path, {})\n",
    "    assert output_path.parent == temp_path\n",
    "    assert (output_path/'metadata.json').is_file()\n",
    "    assert (output_path/'state_dict.npz').is_file()\n",
    "finally:\n",
    "    shutil.rmtree(temp_path)"
   ]
  },
  {
   "cell_type": "markdown",
   "id": "871c4ce6",
   "metadata": {},
   "source": [
    "## Loading model state"
   ]
  },
  {
   "cell_type": "code",
   "execution_count": 6,
   "id": "23222d12",
   "metadata": {},
   "outputs": [],
   "source": [
    "#export\n",
    "def load_state_dict(path):\n",
    "    \"Load `state_dict.npz` from `path` (a model directory)\"\n",
    "    return np.load(Path(path)/'state_dict.npz')"
   ]
  },
  {
   "cell_type": "markdown",
   "id": "482bfcca",
   "metadata": {},
   "source": [
    "`load_state_dict` returns a `NpzFile`, which should be used as a context manager (so that the npz file we opened gets closed)."
   ]
  },
  {
   "cell_type": "code",
   "execution_count": 7,
   "id": "6b7a9b50",
   "metadata": {},
   "outputs": [],
   "source": [
    "temp_path = Path(tempfile.mkdtemp())\n",
    "class MockTensor:\n",
    "    def __init__(self, arr):\n",
    "        self.arr = arr\n",
    "    def detach(self):\n",
    "        return self\n",
    "    def cpu(self):\n",
    "        return self\n",
    "    def numpy(self):\n",
    "        return self.arr\n",
    "try:\n",
    "    a = np.ones((2,3))\n",
    "    b = np.zeros((3,2))\n",
    "    output_path = save_state_dict(temp_path, dict(a=MockTensor(a), b=MockTensor(b)))\n",
    "    with load_state_dict(output_path) as state_dict:\n",
    "        assert np.allclose(a, state_dict['a'])\n",
    "        assert np.allclose(b, state_dict['b'])\n",
    "finally:\n",
    "    shutil.rmtree(temp_path)"
   ]
  },
  {
   "cell_type": "markdown",
   "id": "5c6cd56d",
   "metadata": {},
   "source": [
    "# Inference only `numpy` model\n",
    "\n",
    "We need to write a little code so that we can run inference using a previously saved state dict."
   ]
  },
  {
   "cell_type": "code",
   "execution_count": 8,
   "id": "c8b938de",
   "metadata": {},
   "outputs": [],
   "source": [
    "#export \n",
    "class NpBatchNorm1d:\n",
    "    \"Applies Batch Normalization\"\n",
    "    # https://github.com/pytorch/pytorch/blob/420b37f3c67950ed93cd8aa7a12e673fcfc5567b/aten/src/ATen/native/Normalization.cpp#L61-L126\n",
    "    def __init__(self, weight, bias, running_mean, running_var, num_batches_tracked=None):\n",
    "        self.weight, self.bias = weight, bias\n",
    "        self.running_mean, self.running_std = running_mean, np.sqrt(running_var + 1e-5)\n",
    "    def __call__(self, x):\n",
    "        x = x - self.running_mean\n",
    "        x = x / self.running_std\n",
    "        x = x * self.weight\n",
    "        x = x + self.bias\n",
    "        return x"
   ]
  },
  {
   "cell_type": "code",
   "execution_count": 9,
   "id": "3acdec5b",
   "metadata": {},
   "outputs": [],
   "source": [
    "#export \n",
    "class NpLinear:\n",
    "    \"Applies a linear transformation\"\n",
    "    def __init__(self, weight, bias=None):\n",
    "        self.weight, self.bias = weight.T, bias\n",
    "    def __call__(self, x):\n",
    "        x = x @ self.weight\n",
    "        if self.bias is not None:\n",
    "            x = x + self.bias\n",
    "        return x"
   ]
  },
  {
   "cell_type": "code",
   "execution_count": 10,
   "id": "7ef583cd",
   "metadata": {},
   "outputs": [],
   "source": [
    "#export \n",
    "class NpReLU:\n",
    "    \"Applies element wise max of x and zero\"\n",
    "    def __call__(self, x):\n",
    "        return np.maximum(x, 0)"
   ]
  },
  {
   "cell_type": "code",
   "execution_count": 11,
   "id": "25a07701",
   "metadata": {},
   "outputs": [],
   "source": [
    "#export \n",
    "class NpModel:\n",
    "    \"A sequential module container\"\n",
    "    def __init__(self, *modules):\n",
    "        self.modules = modules\n",
    "    def __call__(self, x):\n",
    "        for module in self.modules:\n",
    "            x = module(x)\n",
    "        return x"
   ]
  },
  {
   "cell_type": "code",
   "execution_count": 12,
   "id": "c98de6ea",
   "metadata": {},
   "outputs": [],
   "source": [
    "#export\n",
    "def get_class_count(model):\n",
    "    return model.modules[-1].weight.shape[1]"
   ]
  },
  {
   "cell_type": "code",
   "execution_count": 13,
   "id": "9f11f70b",
   "metadata": {},
   "outputs": [],
   "source": [
    "#export\n",
    "def load_tabular_model(path):\n",
    "    \"Load `state_dict.npz` from `path` (a model directory) and create a tabular model\"\n",
    "    state_dict = load_state_dict(path)\n",
    "    # TODO: this only works for the model config we used ... TODO: make it a bit more generic\n",
    "    return NpModel(NpBatchNorm1d(**get_dict_subset(state_dict, 'bn_cont')),\n",
    "                   NpLinear(**get_dict_subset(state_dict, 'layers.0.0')),\n",
    "                   NpReLU(),\n",
    "                   NpBatchNorm1d(**get_dict_subset(state_dict, 'layers.0.2')),\n",
    "                   NpLinear(**get_dict_subset(state_dict, 'layers.1.0')),\n",
    "                   NpReLU(),\n",
    "                   NpBatchNorm1d(**get_dict_subset(state_dict, 'layers.1.2')),\n",
    "                   NpLinear(**get_dict_subset(state_dict, 'layers.2.0')))"
   ]
  },
  {
   "cell_type": "code",
   "execution_count": 14,
   "id": "154ab777",
   "metadata": {},
   "outputs": [],
   "source": [
    "np_model = load_tabular_model('test/data/viseme_tabular_dataset/processed/model')\n",
    "assert 4 == get_class_count(np_model)"
   ]
  },
  {
   "cell_type": "code",
   "execution_count": 15,
   "id": "5dd1ea7e",
   "metadata": {},
   "outputs": [],
   "source": [
    "#export \n",
    "def create_confusion_matrix(model, df, cont_names, y_name):\n",
    "    \"Confusion matrix as a numpy array\"\n",
    "    class_count = get_class_count(model)\n",
    "    confusion_matrix = np.zeros([class_count,class_count], dtype=int)\n",
    "    output = model(df[cont_names].to_numpy())\n",
    "    preds = np.argmax(output, axis=1)\n",
    "    _class_to_id = dict(AH=0, EE=1, NO_EXPRESSION=2, OO=3) # TODO: train tabular model, save class map in metadata\n",
    "    targets = _data[y_name].apply(lambda v: _class_to_id[v]).to_list()\n",
    "#     targets = df[y_name].to_numpy(dtype=int)\n",
    "    for p,t in zip(preds, targets):\n",
    "        confusion_matrix[t][p]+=1\n",
    "    return confusion_matrix"
   ]
  },
  {
   "cell_type": "code",
   "execution_count": 16,
   "id": "6efcd84c",
   "metadata": {},
   "outputs": [
    {
     "data": {
      "text/plain": [
       "array([[0, 5, 0, 0],\n",
       "       [0, 0, 0, 0],\n",
       "       [0, 1, 3, 1],\n",
       "       [0, 0, 0, 5]])"
      ]
     },
     "execution_count": 16,
     "metadata": {},
     "output_type": "execute_result"
    }
   ],
   "source": [
    "_metadata, _data, _stats = read_processed_dataset('test/data/viseme_tabular_dataset/processed', False)\n",
    "confusion_matrix = create_confusion_matrix(np_model, _data, _data.columns[:-1], _data.columns[-1])\n",
    "confusion_matrix"
   ]
  },
  {
   "cell_type": "code",
   "execution_count": 17,
   "id": "ebda171f",
   "metadata": {},
   "outputs": [],
   "source": [
    "#export\n",
    "def plot_confusion_matrix(model, df, cont_names, y_name):\n",
    "    \"Plot a confusion matrix using matplotlib\"\n",
    "    confusion_matrix = create_confusion_matrix(model, df, cont_names, y_name)\n",
    "    class_count = get_class_count(model) # class_count might not be the same as len(class_ids)\n",
    "    class_ids = [0,1,2,3] # TODO: train tabular model, save class map in metadata\n",
    "    class_labels = ['AH', 'EE', 'NO_EXPRESSION', 'OO']\n",
    "    fig, ax = plt.subplots(figsize=(9,9))\n",
    "    ax.matshow(confusion_matrix, cmap=plt.cm.Blues, alpha=0.8)\n",
    "    # ax.xaxis.set_ticks_position('bottom') # must be after matshow\n",
    "    ax.yaxis.set_label_position('right')\n",
    "    for i in range(confusion_matrix.shape[0]):\n",
    "        for j in range(confusion_matrix.shape[1]):\n",
    "            ax.text(x=j, y=i,s=confusion_matrix[i, j], va='center', ha='center', size='xx-large')\n",
    "    plt.title('Confusion Matrix', fontsize=14)\n",
    "    plt.xlabel('Predicted', fontsize=12)\n",
    "    plt.ylabel('Actual', fontsize=12)\n",
    "    tick_marks = np.arange(class_count)\n",
    "    plt.xticks(tick_marks, class_labels[:class_count], rotation=90)\n",
    "    plt.yticks(tick_marks, class_labels[:class_count], rotation=0)\n",
    "    plt.show()"
   ]
  },
  {
   "cell_type": "code",
   "execution_count": 18,
   "id": "899ac14d",
   "metadata": {},
   "outputs": [
    {
     "data": {
      "image/png": "[encoded data removed]",
      "text/plain": [
       "<Figure size 648x648 with 1 Axes>"
      ]
     },
     "metadata": {
      "needs_background": "light"
     },
     "output_type": "display_data"
    }
   ],
   "source": [
    "plot_confusion_matrix(np_model, _data, _data.columns[:-1], _data.columns[-1])"
   ]
  },
  {
   "cell_type": "code",
   "execution_count": 19,
   "id": "af730a39",
   "metadata": {},
   "outputs": [],
   "source": [
    "#export \n",
    "def get_idxs_of_interest(model, df, cont_names, y_name, target_of_interest, pred_of_interest):\n",
    "    \"Indeces in `df` where `df[y_name]` had `target_of_interest` but the model predicted `pred_of_interest`\"\n",
    "    class_labels = ['AH', 'EE', 'NO_EXPRESSION', 'OO'] # TODO: train tabular model, save class map in metadata\n",
    "    output = model(df[cont_names].to_numpy())\n",
    "    preds = np.argmax(output, axis=1)\n",
    "    _class_to_id = dict(AH=0, EE=1, NO_EXPRESSION=2, OO=3) # TODO: train tabular model, save class map in metadata\n",
    "    targets = _data[y_name].apply(lambda v: _class_to_id[v]).to_numpy()\n",
    "#     targets = df[y_name].to_numpy()\n",
    "    idxs = []\n",
    "    print('target_of_interest', class_labels[target_of_interest],\n",
    "          'pred_of_interest', class_labels[pred_of_interest])\n",
    "    print('overall accuracy', (targets==preds).sum() / len(targets))\n",
    "    _filter = targets==target_of_interest\n",
    "    print('accuracy for target_of_interest',(targets[_filter]==preds[_filter]).sum() / _filter.sum())\n",
    "    for i, (p,t) in enumerate(zip(preds,targets)):\n",
    "        if t==target_of_interest and p==pred_of_interest:\n",
    "            idxs.append(i)\n",
    "    return idxs"
   ]
  },
  {
   "cell_type": "markdown",
   "id": "fd7ee893",
   "metadata": {},
   "source": [
    "\n",
    "- `target_of_interest` class ID of the target we're interested in\n",
    "- `pred_of_interest` class ID of the prediction we're interested in"
   ]
  },
  {
   "cell_type": "code",
   "execution_count": 20,
   "id": "1d41ce46",
   "metadata": {},
   "outputs": [
    {
     "name": "stdout",
     "output_type": "stream",
     "text": [
      "target_of_interest NO_EXPRESSION pred_of_interest OO\n",
      "overall accuracy 0.5333333333333333\n",
      "accuracy for target_of_interest 0.6\n"
     ]
    }
   ],
   "source": [
    "idxs = get_idxs_of_interest(np_model, _data, _data.columns[:-1], _data.columns[-1], 2, 3)"
   ]
  },
  {
   "cell_type": "markdown",
   "id": "ec28f18a",
   "metadata": {},
   "source": [
    "We can `df.iloc[idxs]` and look at the rows that the model saw.\n",
    "\n",
    "We can also use `get_image_path` &darr; to get `img_path`, input values before processing etc"
   ]
  },
  {
   "cell_type": "code",
   "execution_count": 21,
   "id": "c043c0dc",
   "metadata": {},
   "outputs": [
    {
     "data": {
      "text/html": [
       "<div>\n",
       "<style scoped>\n",
       "    .dataframe tbody tr th:only-of-type {\n",
       "        vertical-align: middle;\n",
       "    }\n",
       "\n",
       "    .dataframe tbody tr th {\n",
       "        vertical-align: top;\n",
       "    }\n",
       "\n",
       "    .dataframe thead th {\n",
       "        text-align: right;\n",
       "    }\n",
       "</style>\n",
       "<table border=\"1\" class=\"dataframe\">\n",
       "  <thead>\n",
       "    <tr style=\"text-align: right;\">\n",
       "      <th></th>\n",
       "      <th>idx</th>\n",
       "      <th>image_path</th>\n",
       "    </tr>\n",
       "  </thead>\n",
       "  <tbody>\n",
       "    <tr>\n",
       "      <th>0</th>\n",
       "      <td>2</td>\n",
       "      <td>.jpeg</td>\n",
       "    </tr>\n",
       "  </tbody>\n",
       "</table>\n",
       "</div>"
      ],
      "text/plain": [
       "   idx image_path\n",
       "0    2      .jpeg"
      ]
     },
     "execution_count": 21,
     "metadata": {},
     "output_type": "execute_result"
    }
   ],
   "source": [
    "pd.DataFrame(dict(idx=idxs, image_path=[str(get_image_path('test/data/viseme_tabular_dataset/processed', i))[44:] for i in idxs]))"
   ]
  },
  {
   "cell_type": "code",
   "execution_count": 22,
   "id": "68cf44cd",
   "metadata": {},
   "outputs": [
    {
     "name": "stdout",
     "output_type": "stream",
     "text": [
      "Converted 00_core.ipynb.\n",
      "Converted 01a_camera_capture.ipynb.\n",
      "Converted 10a_viseme_tabular_identify_landmarks.ipynb.\n",
      "Converted 10b_viseme_tabular_data.ipynb.\n",
      "Converted 10d_viseme_tabular_model.ipynb.\n",
      "Converted 10e_viseme_tabular_train_model.ipynb.\n",
      "Converted 10f_viseme_tabular_test_model.ipynb.\n",
      "Converted 11b_viseme_image_data.ipynb.\n",
      "Converted 11d_viseme_image_model.ipynb.\n",
      "Converted 11e_viseme_image_train_model.ipynb.\n",
      "Converted 11f_viseme_image_test_model.ipynb.\n",
      "Converted 20a_gui_capture_command.ipynb.\n",
      "Converted 20a_gui_main.ipynb.\n",
      "Converted 70_cli.ipynb.\n",
      "Converted index.ipynb.\n",
      "Converted project_lifecycle.ipynb.\n"
     ]
    }
   ],
   "source": [
    "#hide\n",
    "from nbdev.export import notebook2script\n",
    "notebook2script()"
   ]
  }
 ],
 "metadata": {
  "kernelspec": {
   "display_name": "Python 3 (ipykernel)",
   "language": "python",
   "name": "python3"
  },
  "language_info": {
   "codemirror_mode": {
    "name": "ipython",
    "version": 3
   },
   "file_extension": ".py",
   "mimetype": "text/x-python",
   "name": "python",
   "nbconvert_exporter": "python",
   "pygments_lexer": "ipython3",
   "version": "3.8.0"
  }
 },
 "nbformat": 4,
 "nbformat_minor": 5
}
