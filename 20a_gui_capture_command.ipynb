{
 "cells": [
  {
   "cell_type": "code",
   "execution_count": 1,
   "id": "cd5e2182",
   "metadata": {},
   "outputs": [],
   "source": [
    "# default_exp gui.capture_command"
   ]
  },
  {
   "cell_type": "markdown",
   "id": "0042ebe0",
   "metadata": {},
   "source": [
    "# Capture Command\n",
    "\n",
    "> Capture a user command with a tk GUI."
   ]
  },
  {
   "cell_type": "markdown",
   "id": "a7aa901c",
   "metadata": {},
   "source": [
    "TODO: abstract out win32 bits"
   ]
  },
  {
   "cell_type": "code",
   "execution_count": 1,
   "id": "c6da1672",
   "metadata": {},
   "outputs": [],
   "source": [
    "#export\n",
    "from tkinter import *\n",
    "from tkinter import ttk\n",
    "from collections import namedtuple\n",
    "from PIL import Image, ImageTk\n",
    "import win32api, win32con, time"
   ]
  },
  {
   "cell_type": "markdown",
   "id": "a763b024",
   "metadata": {},
   "source": [
    "https://docs.microsoft.com/en-us/windows/win32/api/winuser/nf-winuser-mouse_event"
   ]
  },
  {
   "cell_type": "code",
   "execution_count": 2,
   "id": "fbe45153",
   "metadata": {},
   "outputs": [],
   "source": [
    "#export\n",
    "def pointer_left_click(x=10, y=10):\n",
    "    win32api.mouse_event(win32con.MOUSEEVENTF_LEFTDOWN, x, y)\n",
    "    win32api.mouse_event(win32con.MOUSEEVENTF_LEFTUP, x, y)\n",
    "    \n",
    "def pointer_right_click(x=10, y=10):\n",
    "    win32api.mouse_event(win32con.MOUSEEVENTF_RIGHTDOWN, x, y)\n",
    "    win32api.mouse_event(win32con.MOUSEEVENTF_RIGHTUP, x, y)"
   ]
  },
  {
   "cell_type": "code",
   "execution_count": 3,
   "id": "ede4638a",
   "metadata": {},
   "outputs": [],
   "source": [
    "#export\n",
    "def get_pointer_position():\n",
    "    return win32api.GetCursorPos()"
   ]
  },
  {
   "cell_type": "code",
   "execution_count": 4,
   "id": "4f8fc003",
   "metadata": {},
   "outputs": [],
   "source": [
    "#export \n",
    "def get_screen_size():\n",
    "    return win32api.GetSystemMetrics(0), win32api.GetSystemMetrics(1)"
   ]
  },
  {
   "cell_type": "code",
   "execution_count": 5,
   "id": "93ddb93e",
   "metadata": {},
   "outputs": [],
   "source": [
    "#export\n",
    "def pointer_in_left_half_of_screen():\n",
    "    screen_width, _ = get_screen_size()\n",
    "    cursor_x, _ = get_pointer_position()\n",
    "    return cursor_x < (screen_width / 2)"
   ]
  },
  {
   "cell_type": "code",
   "execution_count": 6,
   "id": "42b45b13",
   "metadata": {},
   "outputs": [],
   "source": [
    "#export\n",
    "class TkKeyPressHandler:\n",
    "    def __init__(self, root):\n",
    "        self.root, self.keys_pressed, self.previous_after_id = root, [], None\n",
    "    def key_pressed(self, event):\n",
    "        self.keys_pressed.append(event.keysym)\n",
    "        if self.previous_after_id is not None:\n",
    "            self.root.after_cancel(self.previous_after_id)\n",
    "        self.previous_after_id = self.root.after(200, self.root.destroy) # TODO: 200 config - how long do we wait for double press?"
   ]
  },
  {
   "cell_type": "code",
   "execution_count": 7,
   "id": "c93eaf4d",
   "metadata": {},
   "outputs": [],
   "source": [
    "#export\n",
    "def capture_key_press(side_bar_text=[], side_bar_left=True):\n",
    "    screen_width, screen_height = get_screen_size()\n",
    "    \n",
    "    side_bar_column, img_column = (0, 1) if side_bar_left else (1, 0)\n",
    "    \n",
    "    root = Tk()\n",
    "    mainframe = ttk.Frame(root, padding=5)\n",
    "    mainframe.grid(column=0, row=0)\n",
    "\n",
    "    # hack to force column widths\n",
    "    ttk.Frame(mainframe, width=250-10).grid(column=side_bar_column, row=0)\n",
    "    ttk.Frame(mainframe, width=screen_width-250).grid(column=img_column, row=0)\n",
    "    \n",
    "    side_bar_frame = ttk.Frame(mainframe, padding=5)\n",
    "    side_bar_frame.grid(column=side_bar_column, row=0)\n",
    "    for row, text in enumerate(side_bar_text):\n",
    "        ttk.Label(side_bar_frame, text=text, font='TkFixedFont').grid(column=0, row=row, sticky=W)\n",
    "    \n",
    "    image = ImageTk.PhotoImage(Image.new('1', (screen_width-250,screen_height-10), color = 'white'))\n",
    "    ttk.Label(mainframe, image=image).grid(column=img_column, row=0)\n",
    "    \n",
    "    root.attributes('-alpha', 0.9) # we can easily make the whole thing semi-transparent\n",
    "    root.attributes('-transparentcolor', 'white') # turns image into a \"window\"\n",
    "    root.attributes(\"-topmost\", True)\n",
    "    root.attributes('-fullscreen', True)\n",
    "    \n",
    "    def _destroy(event=None): root.destroy()\n",
    "    root.bind(\"<Escape>\", _destroy)\n",
    "    root.bind(\"<FocusOut>\", _destroy)\n",
    "    \n",
    "    key_press_handler = TkKeyPressHandler(root)\n",
    "    root.bind('<Key>', key_press_handler.key_pressed)\n",
    "    \n",
    "    root.after(10, pointer_left_click) # make sure we have focus\n",
    "    root.mainloop()\n",
    "    return key_press_handler.keys_pressed"
   ]
  },
  {
   "cell_type": "code",
   "execution_count": 8,
   "id": "d531516c",
   "metadata": {},
   "outputs": [],
   "source": [
    "#export\n",
    "Command = namedtuple('Command', ['key', 'label', 'fn'])\n",
    "commands = [\n",
    "    Command('l', 'Left click', lambda: pointer_left_click(*get_pointer_position())),\n",
    "    Command('r', 'Right click', lambda: pointer_right_click(*get_pointer_position())),\n",
    "    Command('semicolon', 'Enter / Return', lambda: win32api.keybd_event(win32con.VK_RETURN, 0)),\n",
    "    Command('e', 'End', lambda: win32api.keybd_event(win32con.VK_END, 0)),\n",
    "    Command('h', 'Home', lambda: win32api.keybd_event(win32con.VK_HOME, 0)),\n",
    "    Command('d', 'Delete', lambda: win32api.keybd_event(win32con.VK_DELETE, 0)),\n",
    "    Command('b', 'Backspace', lambda: win32api.keybd_event(win32con.VK_BACK, 0)),\n",
    "    Command('as', 'Test seq', lambda: print('\"as\" sequence hit')),\n",
    "]\n",
    "command_map = {c.key: c for c in commands}"
   ]
  },
  {
   "cell_type": "code",
   "execution_count": 9,
   "id": "6368dd16",
   "metadata": {},
   "outputs": [
    {
     "data": {
      "text/plain": [
       "['h']"
      ]
     },
     "execution_count": 9,
     "metadata": {},
     "output_type": "execute_result"
    }
   ],
   "source": [
    "#do_not_test\n",
    "keys_pressed = capture_key_press([f\"{c.key}: {c.label}\" for c in commands], not pointer_in_left_half_of_screen())\n",
    "keys_pressed"
   ]
  },
  {
   "cell_type": "code",
   "execution_count": 10,
   "id": "07bc974d",
   "metadata": {},
   "outputs": [],
   "source": [
    "#export\n",
    "def run_command(command_map, keys_pressed):\n",
    "    if len(keys_pressed) == 0:\n",
    "        print('No keys pressed - nothing to do')\n",
    "        return\n",
    "    # TODO: do we want to limit the number of keys pressed?\n",
    "#     if len(keys_pressed) > 2: \n",
    "#         print(f'Too many keys pressed. expected 1 or 2 but found {len(keys_pressed)}')\n",
    "#         return\n",
    "    k = ''.join(keys_pressed)\n",
    "    if k in command_map:\n",
    "        command_map[k].fn()\n",
    "        return\n",
    "    for k in keys_pressed: \n",
    "        if k in command_map:\n",
    "            command_map[k].fn()\n",
    "            time.sleep(0.1) # some key presses (backspace) might be ignored if they happen to fast\n",
    "        else:\n",
    "            print(f'{k} not mapped to a command')"
   ]
  },
  {
   "cell_type": "code",
   "execution_count": 11,
   "id": "90e8d04f",
   "metadata": {},
   "outputs": [
    {
     "name": "stdout",
     "output_type": "stream",
     "text": [
      "\"as\" sequence hit\n"
     ]
    }
   ],
   "source": [
    "run_command(command_map, ['a','s'])"
   ]
  },
  {
   "cell_type": "code",
   "execution_count": 13,
   "id": "70cd775d",
   "metadata": {},
   "outputs": [
    {
     "name": "stdout",
     "output_type": "stream",
     "text": [
      "keys_pressed ['h']\n"
     ]
    }
   ],
   "source": [
    "#do_not_test\n",
    "time.sleep(2)\n",
    "keys_pressed = capture_key_press([f\"{c.key}: {c.label}\" for c in commands], not pointer_in_left_half_of_screen())\n",
    "print('keys_pressed', keys_pressed)\n",
    "run_command(command_map, keys_pressed)"
   ]
  },
  {
   "cell_type": "code",
   "execution_count": 14,
   "id": "f77f3843",
   "metadata": {},
   "outputs": [
    {
     "name": "stdout",
     "output_type": "stream",
     "text": [
      "Converted 00_core.ipynb.\n",
      "Converted 05a_ml_data.ipynb.\n",
      "Converted 05b_ml_model.ipynb.\n",
      "Converted 10a_mediapipe_face_mesh_identify_landmarks.ipynb.\n",
      "Converted 10b_mediapipe_face_mesh_capture_session.ipynb.\n",
      "Converted 10c_mediapipe_face_mesh_train_model.ipynb.\n",
      "Converted 10d_test_np_model.ipynb.\n",
      "Converted 20a_gui_capture_command.ipynb.\n",
      "Converted 70_cli.ipynb.\n",
      "Converted index.ipynb.\n",
      "Converted project_lifecycle.ipynb.\n"
     ]
    }
   ],
   "source": [
    "#hide\n",
    "from nbdev.export import notebook2script\n",
    "notebook2script()"
   ]
  }
 ],
 "metadata": {
  "kernelspec": {
   "display_name": "Python 3 (ipykernel)",
   "language": "python",
   "name": "python3"
  },
  "language_info": {
   "codemirror_mode": {
    "name": "ipython",
    "version": 3
   },
   "file_extension": ".py",
   "mimetype": "text/x-python",
   "name": "python",
   "nbconvert_exporter": "python",
   "pygments_lexer": "ipython3",
   "version": "3.8.0"
  }
 },
 "nbformat": 4,
 "nbformat_minor": 5
}
