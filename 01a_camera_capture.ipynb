{
 "cells": [
  {
   "cell_type": "code",
   "execution_count": null,
   "id": "cd5e2182",
   "metadata": {},
   "outputs": [],
   "source": [
    "# default_exp camera_capture"
   ]
  },
  {
   "cell_type": "markdown",
   "id": "0042ebe0",
   "metadata": {},
   "source": [
    "# Camera capture\n",
    "\n",
    "> Video capture and image transformations."
   ]
  },
  {
   "cell_type": "code",
   "execution_count": 1,
   "id": "3f5779ba",
   "metadata": {},
   "outputs": [],
   "source": [
    "#export\n",
    "from expoco.core import *\n",
    "import numpy as np\n",
    "import cv2, time, math, json\n",
    "from pathlib import Path"
   ]
  },
  {
   "cell_type": "code",
   "execution_count": 2,
   "id": "d1a57b55",
   "metadata": {},
   "outputs": [],
   "source": [
    "#export\n",
    "def _update_and_show(image, image_display_helper, text):\n",
    "    image = cv2.flip(image, 1)\n",
    "    image = cv2.putText(image, text, (20,40), cv2.FONT_HERSHEY_COMPLEX, 1, (20,20,20), 2)\n",
    "    image = cv2.putText(image, text, (20,40), cv2.FONT_HERSHEY_COMPLEX, 1, (200,200,200), 1)\n",
    "    image_display_helper.show(image)"
   ]
  },
  {
   "cell_type": "code",
   "execution_count": 3,
   "id": "f2d2ff2f",
   "metadata": {},
   "outputs": [],
   "source": [
    "#export\n",
    "def _countdown(video_capture, image_display_helper, classes):\n",
    "    for i in range(3,0,-1):\n",
    "        retval, image = video_capture.read()\n",
    "        _update_and_show(image, image_display_helper, f'Capture: {classes} in {i}')\n",
    "        time.sleep(0.75)"
   ]
  },
  {
   "cell_type": "code",
   "execution_count": 4,
   "id": "748f0217",
   "metadata": {},
   "outputs": [],
   "source": [
    "#export\n",
    "def capture_session(classes, stop_after, comments, path='data'):\n",
    "    \"Run a video capture session\"\n",
    "    path = Path(f'{path}/capture_sessions/{now()}')\n",
    "    path.mkdir(parents=True, exist_ok=True)\n",
    "    video_capture = cv2.VideoCapture(0)\n",
    "    width, height = [int(video_capture.get(p)) for p in [cv2.CAP_PROP_FRAME_WIDTH, cv2.CAP_PROP_FRAME_HEIGHT]]\n",
    "    retval, image = video_capture.read()\n",
    "    image_display_helper = ImageDisplayHelper(cv2.flip(image, 1), 'expoco: Capture session')\n",
    "    try:\n",
    "        _countdown(video_capture, image_display_helper, classes)\n",
    "        metadata = dict(count=0, stop_after=stop_after, path=path_to_str(path), classes=classes, \n",
    "                        capture_width=width, capture_height=height, start_date=now(), \n",
    "                        comments=comments) # TODO: add relevant software versions etc\n",
    "        for capture_count in range(1, stop_after+1):\n",
    "            retval, image = video_capture.read()\n",
    "            if not retval:\n",
    "                raise Exception('Failed to read from video capture')\n",
    "            assert cv2.imwrite(f'{path}/{capture_count}.png', image), 'Failed to save image'\n",
    "            _update_and_show(image, image_display_helper, f'{classes}: {capture_count}')\n",
    "            time.sleep(.05)\n",
    "        metadata['count'] = capture_count\n",
    "        metadata['end_date'] = now()\n",
    "        with open(path/'metadata.json', 'w') as f: json.dump(metadata, f, indent=2)\n",
    "    finally:\n",
    "        video_capture.release()\n",
    "    return path"
   ]
  },
  {
   "cell_type": "code",
   "execution_count": 7,
   "id": "991ef7b3",
   "metadata": {
    "scrolled": false
   },
   "outputs": [
    {
     "data": {
      "application/vnd.jupyter.widget-view+json": {
       "model_id": "3c38de2e332442fea0fda96cb2d1c8a2",
       "version_major": 2,
       "version_minor": 0
      },
      "text/plain": [
       "Image(value=b'\\x89PNG\\r\\n\\x1a\\n\\x00\\x00\\x00\\rIHDR\\x00\\x00\\x02\\x80\\x00\\x00\\x01\\xe0\\x08\\x02\\x00\\x00\\x00\\xba\\xb3K…"
      ]
     },
     "metadata": {},
     "output_type": "display_data"
    },
    {
     "data": {
      "text/plain": [
       "WindowsPath('test/data/capture_sessions/20220201_111846')"
      ]
     },
     "execution_count": 7,
     "metadata": {},
     "output_type": "execute_result"
    }
   ],
   "source": [
    "#do_not_test\n",
    "_capture_session_path = capture_session('NO_EXPRESSION', 5, 'do not keep', 'test/data')\n",
    "_capture_session_path"
   ]
  },
  {
   "cell_type": "code",
   "execution_count": 8,
   "id": "ca5d2b11",
   "metadata": {},
   "outputs": [],
   "source": [
    "#do_not_test\n",
    "import shutil\n",
    "shutil.rmtree(_capture_session_path)"
   ]
  },
  {
   "cell_type": "code",
   "execution_count": null,
   "id": "33905281",
   "metadata": {},
   "outputs": [],
   "source": [
    "#export\n",
    "def get_viseme_class(metadata, viseme_classes=['NO_EXPRESSION', 'OO', 'EE', 'AH', 'RANDOM_TALK']):\n",
    "    classes = metadata['classes'].split(' ') # TODO: this should be called labels\n",
    "    result = None\n",
    "    for c in classes:\n",
    "        if c in viseme_classes:\n",
    "            if result is not None:\n",
    "                raise Exception(f'Found multiple viseme classes in {classes}. Expected 1')\n",
    "            result = c\n",
    "    if result is None:\n",
    "        raise Exception(f'Viseme class not found in {classes}')\n",
    "    return result"
   ]
  },
  {
   "cell_type": "code",
   "execution_count": null,
   "id": "a0fa5093",
   "metadata": {},
   "outputs": [],
   "source": [
    "try:\n",
    "    get_viseme_class({})\n",
    "    assert False, 'we should get a KeyError when metadata does not have a classes entry'\n",
    "except KeyError:\n",
    "    pass\n",
    "\n",
    "try:\n",
    "    get_viseme_class({'classes': None})\n",
    "    assert False, 'we should get an error classes is not a string'\n",
    "except:\n",
    "    pass\n",
    "\n",
    "try:\n",
    "    get_viseme_class({'classes': 'no viseme classes here'})\n",
    "    assert False, 'we should get an error when no viseme classes can be found'\n",
    "except Exception as ex:\n",
    "    assert str(ex).startswith('Viseme class not found')\n",
    "\n",
    "assert 'NO_EXPRESSION' == get_viseme_class({'classes': 'NO_EXPRESSION'})\n",
    "assert 'NO_EXPRESSION' == get_viseme_class({'classes': 'NO_EXPRESSION CAN_HAVE_OTHER_CLASSES'})\n",
    "assert 'OO' == get_viseme_class({'classes': 'OO'})\n",
    "\n",
    "try:\n",
    "    get_viseme_class({'classes': 'NO_EXPRESSION OO'})\n",
    "    assert False, 'we should get an error when multiple viseme classes are found'\n",
    "except Exception as ex:\n",
    "    assert str(ex).startswith('Found multiple viseme classes')"
   ]
  },
  {
   "cell_type": "code",
   "execution_count": null,
   "id": "0a35b245",
   "metadata": {},
   "outputs": [],
   "source": [
    "#hide\n",
    "from nbdev.export import notebook2script\n",
    "notebook2script()"
   ]
  }
 ],
 "metadata": {
  "kernelspec": {
   "display_name": "Python 3 (ipykernel)",
   "language": "python",
   "name": "python3"
  },
  "language_info": {
   "codemirror_mode": {
    "name": "ipython",
    "version": 3
   },
   "file_extension": ".py",
   "mimetype": "text/x-python",
   "name": "python",
   "nbconvert_exporter": "python",
   "pygments_lexer": "ipython3",
   "version": "3.8.0"
  }
 },
 "nbformat": 4,
 "nbformat_minor": 5
}
