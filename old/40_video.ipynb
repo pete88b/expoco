{
 "cells": [
  {
   "cell_type": "code",
   "execution_count": null,
   "metadata": {},
   "outputs": [],
   "source": [
    "# default_exp video"
   ]
  },
  {
   "cell_type": "markdown",
   "metadata": {},
   "source": [
    "# Video\n",
    "\n",
    "> API details."
   ]
  },
  {
   "cell_type": "code",
   "execution_count": null,
   "metadata": {},
   "outputs": [],
   "source": [
    "#export\n",
    "import cv2, datetime, time, json\n",
    "from functools import partial\n",
    "from pathlib import Path\n",
    "from expoco.screen import *\n",
    "from expoco.pointer import *\n",
    "from expoco.keyboard import *"
   ]
  },
  {
   "cell_type": "code",
   "execution_count": null,
   "metadata": {},
   "outputs": [],
   "source": [
    "#export\n",
    "def _now(): \n",
    "    return datetime.datetime.utcnow().strftime('%Y%m%d%H%M%S')"
   ]
  },
  {
   "cell_type": "code",
   "execution_count": null,
   "metadata": {},
   "outputs": [],
   "source": [
    "#export\n",
    "def _new_capture_metadata(stop_after, path, screen_size, video_capture, random_move):\n",
    "    width, height = [int(video_capture.get(p)) for p in [cv2.CAP_PROP_FRAME_WIDTH, cv2.CAP_PROP_FRAME_HEIGHT]]\n",
    "    assert width >= height\n",
    "    return dict(count=0, stop_after=stop_after, path=str(path.resolve()), screen_size=screen_size,\n",
    "                capture_width=width, capture_height=height, trim_width=(width-height)//2, \n",
    "                random_move=random_move)"
   ]
  },
  {
   "cell_type": "code",
   "execution_count": null,
   "metadata": {},
   "outputs": [],
   "source": [
    "#export\n",
    "def _after_key_press(capture_metadata, video_capture, pointer, character):\n",
    "    \"Handle key presses during a video capture session\"\n",
    "    if character == 'C': # Capture\n",
    "        retval, image = video_capture.read()\n",
    "        if retval:\n",
    "            path,screen_size,trim_width=[capture_metadata[k] for k in ['path','screen_size','trim_width']]\n",
    "#             image = image[:, trim_width:-trim_width] # resize to square\n",
    "            image = image[100:, 130:-130] # TODO: xxx\n",
    "            x,y = pointer.get_position()\n",
    "            assert cv2.imwrite(f'{path}/{_now()}_{x}_{y}.png', image)\n",
    "            capture_metadata['count'] += 1\n",
    "            if capture_metadata['count'] == capture_metadata['stop_after']: \n",
    "                return 'ESC'\n",
    "            if capture_metadata['random_move']: \n",
    "                pointer.random_move_to(screen_size)\n",
    "            else:\n",
    "                pointer.move_to([x + (-10 if x > 100 else 10), y])\n",
    "                time.sleep(.1)\n",
    "                pointer.move_to([x, y])\n",
    "        else:\n",
    "            print('Nothing read from video capture')\n",
    "    if character == 'P':\n",
    "        print('TODO: preview last image captured')\n",
    "        # and make it possible to discard if it's not right"
   ]
  },
  {
   "cell_type": "code",
   "execution_count": null,
   "metadata": {},
   "outputs": [],
   "source": [
    "#export\n",
    "def _after_key_press2(capture_metadata, video_capture, pointer, character):\n",
    "    \"Screen sweep on C press\"\n",
    "    if character == 'C': # Capture\n",
    "#         _pos,_width,_height=[639, 360],3,1\n",
    "        _pos,_width,_height=[600, 300],50,30\n",
    "        pointer.move_to(_pos)\n",
    "        time.sleep(.5)\n",
    "        for _ in range(10):\n",
    "            _pos[0]-=1\n",
    "            _pos[1]-=1\n",
    "            _width+=2\n",
    "            _height+=2\n",
    "            print(_pos,_width,_height)\n",
    "            def _m(label):\n",
    "                time.sleep(.03)\n",
    "                retval, image = video_capture.read()\n",
    "                if retval:\n",
    "                    path,screen_size,trim_width=[capture_metadata[k] for k in ['path','screen_size','trim_width']]\n",
    "                    image = image[100:, 130:-130] # TODO: xxx\n",
    "                    x,y = pointer.get_position()\n",
    "                    assert cv2.imwrite(f'{path}/{_now()}_{x}_{y}.png', image)\n",
    "                    capture_metadata['count'] += 1\n",
    "                else:\n",
    "                    print('Nothing read from video capture')\n",
    "                pointer.move_to(_pos)\n",
    "            _m('start')\n",
    "            for i in range(1,_width):\n",
    "                _pos[0]+=1\n",
    "                _m('right')\n",
    "            for i in range(1,_height):\n",
    "                _pos[1]+=1\n",
    "                _m('down')\n",
    "            for i in range(1,_width):\n",
    "                _pos[0]-=1\n",
    "                _m('left')\n",
    "            for i in range(1,_height):\n",
    "                _pos[1]-=1\n",
    "                _m('up')"
   ]
  },
  {
   "cell_type": "code",
   "execution_count": null,
   "metadata": {},
   "outputs": [],
   "source": [
    "#export\n",
    "def capture_session(device_control_functions, expression_id, stop_after=20, random_move=True):\n",
    "    \"Run a video capture session\"\n",
    "    screen,pointer,keyboard=[device_control_functions[k]() for k in ['screen','pointer','keyboard']]\n",
    "    expression_id = str(expression_id)\n",
    "    with open('data/config.json') as f: config = json.load(f)\n",
    "    if expression_id not in config.get('expressions', {}):\n",
    "        raise Exception(f'{expression_id} is missing from expressions section of data/config.json')\n",
    "    path = Path(f'data/capture_session_{_now()}_{expression_id}')\n",
    "    path.mkdir(parents=True, exist_ok=True)\n",
    "    video_capture = cv2.VideoCapture(0)\n",
    "    retval, image = video_capture.read() # throw away capture - 1st image is usually poor\n",
    "    try:\n",
    "        width, height = [int(video_capture.get(p)) for p in [cv2.CAP_PROP_FRAME_WIDTH, cv2.CAP_PROP_FRAME_HEIGHT]]\n",
    "        assert width >= height\n",
    "        screen_size = screen.get_screen_size()\n",
    "        if random_move: pointer.random_move_to(screen_size)\n",
    "        capture_metadata = _new_capture_metadata(stop_after, path, screen_size, video_capture, random_move)\n",
    "        print('Ready to capture', config['expressions'][expression_id],\n",
    "              'with' if random_move else 'without', 'random pointer moves')\n",
    "        print('Press C to capture')\n",
    "        keyboard.after_key_press(partial(_after_key_press, \n",
    "                                         capture_metadata, video_capture, pointer))\n",
    "        with open(path/'capture_metadata.json', 'w') as f: json.dump(capture_metadata, f, indent=2)\n",
    "    finally:\n",
    "        video_capture.release()"
   ]
  },
  {
   "cell_type": "markdown",
   "metadata": {},
   "source": [
    "```\n",
    "from expoco.core import *\n",
    "capture_session(get_device_control_functions('windows'), 0, 5, False)\n",
    "```"
   ]
  },
  {
   "cell_type": "code",
   "execution_count": null,
   "metadata": {},
   "outputs": [],
   "source": [
    "# from expoco.core import *\n",
    "# capture_session(get_device_control_functions('windows'), 0, 5, False)"
   ]
  },
  {
   "cell_type": "markdown",
   "metadata": {},
   "source": [
    "## TODO:\n",
    "\n",
    "- make it easy to preview captured images for last session"
   ]
  },
  {
   "cell_type": "code",
   "execution_count": null,
   "metadata": {},
   "outputs": [],
   "source": [
    "# # uncomment and run to clear all captured session data\n",
    "# import shutil\n",
    "# for folder_path in Path('data').glob('capture_session*'):\n",
    "#     shutil.rmtree(folder_path)"
   ]
  },
  {
   "cell_type": "code",
   "execution_count": null,
   "metadata": {},
   "outputs": [
    {
     "name": "stdout",
     "output_type": "stream",
     "text": [
      "Converted 00_core.ipynb.\n",
      "Converted 10_screen.ipynb.\n",
      "Converted 20_pointer.ipynb.\n",
      "Converted 30_keyboard.ipynb.\n",
      "Converted 40_video.ipynb.\n",
      "Converted 90_cli.ipynb.\n",
      "Converted index.ipynb.\n",
      "Converted project_lifecycle.ipynb.\n"
     ]
    }
   ],
   "source": [
    "#hide\n",
    "from nbdev.export import notebook2script\n",
    "notebook2script()"
   ]
  }
 ],
 "metadata": {
  "kernelspec": {
   "display_name": "Python 3 (ipykernel)",
   "language": "python",
   "name": "python3"
  }
 },
 "nbformat": 4,
 "nbformat_minor": 4
}
