{
 "cells": [
  {
   "cell_type": "code",
   "execution_count": null,
   "metadata": {},
   "outputs": [],
   "source": [
    "#default_exp keyboard"
   ]
  },
  {
   "cell_type": "markdown",
   "metadata": {},
   "source": [
    "# Keyboard\n",
    "\n",
    "> API details."
   ]
  },
  {
   "cell_type": "markdown",
   "metadata": {},
   "source": [
    "I was hoping that we could use `cv2.waitKey(0)` to get a platform independent solution but ... it looks like you get a return value of `-1` immediatly unless you have a cv2 window open."
   ]
  },
  {
   "cell_type": "code",
   "execution_count": null,
   "metadata": {},
   "outputs": [],
   "source": [
    "#export\n",
    "import time\n",
    "from abc import ABC,abstractmethod\n",
    "from expoco.core import *"
   ]
  },
  {
   "cell_type": "code",
   "execution_count": null,
   "metadata": {},
   "outputs": [],
   "source": [
    "#export\n",
    "class KeyboardABC(ABC):\n",
    "    @abstractmethod\n",
    "    def was_key_pressed(self, character):\n",
    "        \"Return `True` if the key for `character` was pressed\"\n",
    "        \n",
    "    def which_key_was_pressed(self, characters):\n",
    "        result = None\n",
    "        for c in characters:\n",
    "            if self.was_key_pressed(c):\n",
    "                assert result is None, 'Expected a single key press but multiple keys were pressed'\n",
    "                result = c\n",
    "        return result\n",
    "        \n",
    "    def after_key_press(self, callback_fn, characters='CP'):\n",
    "        \"Listen for key presses. ESC: quit, C: Capture, P: Preview\"\n",
    "        # \"flush\" old key presses\n",
    "        self.was_key_pressed('ESC')\n",
    "        for c in characters: self.was_key_pressed(c)\n",
    "        # now we can start listening\n",
    "        while True:\n",
    "            if self.was_key_pressed('ESC'):\n",
    "                print('Quitting ... ESC pressed')\n",
    "                break\n",
    "            key_pressed = self.which_key_was_pressed(characters)\n",
    "            if key_pressed is not None:\n",
    "                if 'ESC' == callback_fn(key_pressed):\n",
    "                    print('Quitting ... ESC returned by callback_fn')\n",
    "                    break\n",
    "            time.sleep(.2)"
   ]
  },
  {
   "cell_type": "markdown",
   "metadata": {},
   "source": [
    "# Windows specific implementation"
   ]
  },
  {
   "cell_type": "code",
   "execution_count": null,
   "metadata": {},
   "outputs": [],
   "source": [
    "#export\n",
    "def new_windows_keyboard():\n",
    "    import win32api, win32con\n",
    "    class WindowsKeyboard(KeyboardABC):\n",
    "        def was_key_pressed(self, character):\n",
    "            v_key = win32con.VK_ESCAPE if character=='ESC' else ord(character)\n",
    "            return True if win32api.GetAsyncKeyState(v_key) else False\n",
    "    return WindowsKeyboard()\n",
    "\n",
    "add_device_control_function('windows', 'keyboard', new_windows_keyboard)"
   ]
  },
  {
   "cell_type": "markdown",
   "metadata": {},
   "source": [
    "```\n",
    "kb = new_windows_keyboard()\n",
    "kb.after_key_press(lambda k: print('got key', k))\n",
    "```"
   ]
  },
  {
   "cell_type": "code",
   "execution_count": null,
   "metadata": {},
   "outputs": [
    {
     "name": "stdout",
     "output_type": "stream",
     "text": [
      "Converted 00_core.ipynb.\n",
      "Converted 10_screen.ipynb.\n",
      "Converted 20_pointer.ipynb.\n",
      "Converted 30_keyboard.ipynb.\n",
      "Converted 40_video.ipynb.\n",
      "Converted 90_cli.ipynb.\n",
      "Converted index.ipynb.\n",
      "Converted project_lifecycle.ipynb.\n"
     ]
    }
   ],
   "source": [
    "#hide\n",
    "from nbdev.export import notebook2script\n",
    "notebook2script()"
   ]
  }
 ],
 "metadata": {
  "kernelspec": {
   "display_name": "Python 3 (ipykernel)",
   "language": "python",
   "name": "python3"
  }
 },
 "nbformat": 4,
 "nbformat_minor": 4
}
